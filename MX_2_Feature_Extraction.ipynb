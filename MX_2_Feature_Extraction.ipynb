{
  "cells": [
    {
      "cell_type": "markdown",
      "metadata": {
        "id": "view-in-github",
        "colab_type": "text"
      },
      "source": [
        "<a href=\"https://colab.research.google.com/github/May-Xiaoting-Zhou/MX-Project/blob/main/MX_2_Feature_Extraction.ipynb\" target=\"_parent\"><img src=\"https://colab.research.google.com/assets/colab-badge.svg\" alt=\"Open In Colab\"/></a>"
      ]
    },
    {
      "cell_type": "code",
      "execution_count": 1,
      "metadata": {
        "id": "d2oKcMtO8Svf"
      },
      "outputs": [],
      "source": [
        "import pandas as pd\n",
        "import numpy as np\n",
        "\n",
        "freq_bands = {\n",
        "    'delta': (0.5, 4),\n",
        "    'theta': (4, 8),\n",
        "    'alpha/mu': (8, 12),\n",
        "    'low_alpha': (8, 10),\n",
        "    'high_alpha': (10, 12),\n",
        "    'mu': (9, 12),\n",
        "    'sigma': (12, 16),\n",
        "    'beta': (13, 30),\n",
        "    'low_beta': (13, 15),\n",
        "    'mid_beta': (15, 20),\n",
        "    'high_beta': (20, 30),\n",
        "    'low_gamma': (30, 50)\n",
        "}\n",
        "\n",
        "# Sample rate (adjust as needed)\n",
        "fs = 125\n",
        "\n",
        "def calculate_band_power(eeg_signal, freq_bands, fs):\n",
        "    band_powers = {}\n",
        "    for band_name, (low_freq, high_freq) in freq_bands.items():\n",
        "        # Apply FFT to the EEG signal\n",
        "        fft_values = np.fft.fft(eeg_signal)\n",
        "        frequencies = np.fft.fftfreq(len(eeg_signal), 1/fs)\n",
        "\n",
        "        # Find indices corresponding to the frequency band\n",
        "        idx_band = np.where((frequencies >= low_freq) & (frequencies <= high_freq))\n",
        "\n",
        "        # Calculate the power in the frequency band\n",
        "        power = np.sum(np.abs(fft_values[idx_band])**2)\n",
        "        band_powers[band_name] = power\n",
        "    return band_powers\n",
        "\n",
        "\n",
        "def calculate_band_powers_for_dataframe(df, freq_bands, fs):\n",
        "  band_power_results = []\n",
        "  for index, row in df.iterrows():\n",
        "      try:\n",
        "        row_values = row.drop('Time')\n",
        "        eeg_signal = row_values\n",
        "      except (ValueError, KeyError):\n",
        "        print(f\"Error processing row: {index}. Skipping\")\n",
        "        continue\n",
        "\n",
        "      band_powers = calculate_band_power(eeg_signal, freq_bands, fs)\n",
        "      band_power_results.append(band_powers)\n",
        "\n",
        "  # Create a new DataFrame with the band powers\n",
        "  df_band_powers = pd.DataFrame(band_power_results)\n",
        "\n",
        "  # Concatenate the original df_exam with the new df_band_powers\n",
        "  df_with_band_powers = pd.concat([df, df_band_powers], axis=1)\n",
        "  return df_with_band_powers\n"
      ]
    },
    {
      "cell_type": "code",
      "execution_count": 2,
      "metadata": {
        "id": "v3ZxzrBgc4F6"
      },
      "outputs": [],
      "source": [
        "\n",
        "def extract_features(df_bands, window_size):\n",
        "\n",
        "  df_bands['Time'] = df_bands['Time'] // window_size\n",
        "\n",
        "  grouped = df_bands.groupby('Time')\n",
        "\n",
        "  agg_results = grouped.agg(['min', 'max', 'std', 'mean'])\n",
        "  df_agg_results = pd.DataFrame(agg_results.to_records())\n",
        "\n",
        "  new_columns = []\n",
        "  for col in df_agg_results.columns:\n",
        "    if col != 'Time':\n",
        "      # Remove parentheses and split by comma\n",
        "      parts = col[1:-1].split(', ')\n",
        "      # Create a tuple from the parts\n",
        "      tuple_result = (parts[0].strip(\"'\"), parts[1].strip(\"'\"))\n",
        "      if isinstance(tuple_result, tuple):\n",
        "        new_columns.append(f\"{tuple_result[0]}_{tuple_result[1]}\")\n",
        "      else:\n",
        "        new_columns.append(col)\n",
        "  new_columns = ['Time'] + new_columns\n",
        "  df_agg_results.columns = new_columns\n",
        "  return df_agg_results"
      ]
    },
    {
      "cell_type": "code",
      "execution_count": 19,
      "metadata": {
        "id": "ms9fV1immQfY"
      },
      "outputs": [],
      "source": [
        "def extract_features_for_all_subjects(window_size):\n",
        "  df_exams, df_baselines = [], []\n",
        "  for sub in range(1, 39):\n",
        "    try:\n",
        "      # Read the CSV file into a DataFrame\n",
        "      df_baseline = pd.read_csv(f'/content/drive/MyDrive/MX_2/EEG/3. Features/Subject_{sub}_EEG_Baseline_No_Features.csv')\n",
        "      # df_exam = pd.read_csv(f'/content/drive/MyDrive/MX_2/EEG/3. Features/Subject_{sub}_EEG_Exam_No_Features.csv')\n",
        "      df_exam = pd.read_csv(f'/content/drive/MyDrive/MX_2/EEG/3. Features/Subject_{sub}_EEG_Exam_Impasse_2_No_Features.csv')\n",
        "      # df_exam = pd.read_csv(f'/content/drive/MyDrive/MX_2/EEG/3. Features/Subject_{sub}_EEG_Exam_Impasse_No_Features.csv')\n",
        "\n",
        "      df_bands_baseline = calculate_band_powers_for_dataframe(df_baseline, freq_bands, fs)\n",
        "      df_features_baseline = extract_features(df_bands_baseline, window_size)\n",
        "\n",
        "      df_bands_exam = calculate_band_powers_for_dataframe(df_exam, freq_bands, fs)\n",
        "      df_features_exam = extract_features(df_bands_exam, window_size)\n",
        "\n",
        "      df_features_baseline['Subject'] = sub\n",
        "      df_features_exam['Subject'] = sub\n",
        "\n",
        "      df_features_exam['Label'] = 1 # Aha, Impasse\n",
        "      df_features_baseline['Label'] = 0 # Non-Aha, Non-Impasse\n",
        "\n",
        "      df_exams.append(df_features_exam)\n",
        "      df_baselines.append(df_features_baseline)\n",
        "\n",
        "    except FileNotFoundError:\n",
        "      print(f\"Subject {sub} not found\")\n",
        "      continue\n",
        "\n",
        "  df_exams = pd.concat(df_exams)\n",
        "  df_baselines = pd.concat(df_baselines)\n",
        "\n",
        "  df_exams.to_csv(f'/content/drive/MyDrive/MX_2/EEG/3. Features/1_Impasse_BT_Features_Window_{window_size}.csv', index=False)\n",
        "  df_baselines.to_csv(f'/content/drive/MyDrive/MX_2/EEG/3. Features/0_Non_Impasse_Baseline_Features_Window_{window_size}.csv', index=False)"
      ]
    },
    {
      "cell_type": "code",
      "execution_count": 20,
      "metadata": {
        "id": "FElEfc3n8Pt4",
        "colab": {
          "base_uri": "https://localhost:8080/"
        },
        "outputId": "5f75bb40-787e-4dbb-a3e7-d39ca99e6262"
      },
      "outputs": [
        {
          "output_type": "stream",
          "name": "stdout",
          "text": [
            "Subject 1 not found\n",
            "Subject 2 not found\n",
            "Subject 3 not found\n",
            "Subject 4 not found\n",
            "Subject 5 not found\n",
            "Subject 6 not found\n",
            "Subject 7 not found\n",
            "Subject 8 not found\n",
            "Subject 9 not found\n",
            "Subject 10 not found\n",
            "Subject 11 not found\n",
            "Subject 12 not found\n",
            "Subject 13 not found\n",
            "Subject 14 not found\n",
            "Subject 15 not found\n",
            "Subject 16 not found\n",
            "Subject 17 not found\n",
            "Subject 18 not found\n",
            "Subject 20 not found\n",
            "Subject 21 not found\n",
            "Subject 22 not found\n",
            "Subject 23 not found\n",
            "Subject 24 not found\n",
            "Subject 25 not found\n",
            "Subject 29 not found\n",
            "Subject 31 not found\n",
            "Subject 32 not found\n",
            "Subject 33 not found\n",
            "Subject 34 not found\n",
            "Subject 36 not found\n",
            "Subject 37 not found\n",
            "Subject 38 not found\n"
          ]
        }
      ],
      "source": [
        "window_size = 1000 # 1s\n",
        "\n",
        "extract_features_for_all_subjects(window_size)\n"
      ]
    },
    {
      "cell_type": "code",
      "execution_count": 21,
      "metadata": {
        "colab": {
          "base_uri": "https://localhost:8080/"
        },
        "id": "XoFx19Xbf8_J",
        "outputId": "03b4798a-2653-4e1e-c970-e706bae97e47"
      },
      "outputs": [
        {
          "output_type": "stream",
          "name": "stdout",
          "text": [
            "Subject 1 not found\n",
            "Subject 2 not found\n",
            "Subject 3 not found\n",
            "Subject 4 not found\n",
            "Subject 5 not found\n",
            "Subject 6 not found\n",
            "Subject 7 not found\n",
            "Subject 8 not found\n",
            "Subject 9 not found\n",
            "Subject 10 not found\n",
            "Subject 11 not found\n",
            "Subject 12 not found\n",
            "Subject 13 not found\n",
            "Subject 14 not found\n",
            "Subject 15 not found\n",
            "Subject 16 not found\n",
            "Subject 17 not found\n",
            "Subject 18 not found\n",
            "Subject 20 not found\n",
            "Subject 21 not found\n",
            "Subject 22 not found\n",
            "Subject 23 not found\n",
            "Subject 24 not found\n",
            "Subject 25 not found\n",
            "Subject 29 not found\n",
            "Subject 31 not found\n",
            "Subject 32 not found\n",
            "Subject 33 not found\n",
            "Subject 34 not found\n",
            "Subject 36 not found\n",
            "Subject 37 not found\n",
            "Subject 38 not found\n"
          ]
        }
      ],
      "source": [
        "window_size = 3000 # 3s\n",
        "\n",
        "extract_features_for_all_subjects(window_size)"
      ]
    },
    {
      "cell_type": "code",
      "execution_count": 22,
      "metadata": {
        "id": "IryOLveVf9aD",
        "colab": {
          "base_uri": "https://localhost:8080/"
        },
        "outputId": "406b9025-56fa-42ac-988f-403df090e368"
      },
      "outputs": [
        {
          "output_type": "stream",
          "name": "stdout",
          "text": [
            "Subject 1 not found\n",
            "Subject 2 not found\n",
            "Subject 3 not found\n",
            "Subject 4 not found\n",
            "Subject 5 not found\n",
            "Subject 6 not found\n",
            "Subject 7 not found\n",
            "Subject 8 not found\n",
            "Subject 9 not found\n",
            "Subject 10 not found\n",
            "Subject 11 not found\n",
            "Subject 12 not found\n",
            "Subject 13 not found\n",
            "Subject 14 not found\n",
            "Subject 15 not found\n",
            "Subject 16 not found\n",
            "Subject 17 not found\n",
            "Subject 18 not found\n",
            "Subject 20 not found\n",
            "Subject 21 not found\n",
            "Subject 22 not found\n",
            "Subject 23 not found\n",
            "Subject 24 not found\n",
            "Subject 25 not found\n",
            "Subject 29 not found\n",
            "Subject 31 not found\n",
            "Subject 32 not found\n",
            "Subject 33 not found\n",
            "Subject 34 not found\n",
            "Subject 36 not found\n",
            "Subject 37 not found\n",
            "Subject 38 not found\n"
          ]
        }
      ],
      "source": [
        "window_size = 5000 # 5s\n",
        "\n",
        "extract_features_for_all_subjects(window_size)"
      ]
    },
    {
      "cell_type": "code",
      "execution_count": 23,
      "metadata": {
        "id": "SXjNEX3FpyB5",
        "colab": {
          "base_uri": "https://localhost:8080/"
        },
        "outputId": "e3d4bfbb-3f7d-4348-fa57-f01b76bcb4a0"
      },
      "outputs": [
        {
          "output_type": "stream",
          "name": "stdout",
          "text": [
            "Subject 1 not found\n",
            "Subject 2 not found\n",
            "Subject 3 not found\n",
            "Subject 4 not found\n",
            "Subject 5 not found\n",
            "Subject 6 not found\n",
            "Subject 7 not found\n",
            "Subject 8 not found\n",
            "Subject 9 not found\n",
            "Subject 10 not found\n",
            "Subject 11 not found\n",
            "Subject 12 not found\n",
            "Subject 13 not found\n",
            "Subject 14 not found\n",
            "Subject 15 not found\n",
            "Subject 16 not found\n",
            "Subject 17 not found\n",
            "Subject 18 not found\n",
            "Subject 20 not found\n",
            "Subject 21 not found\n",
            "Subject 22 not found\n",
            "Subject 23 not found\n",
            "Subject 24 not found\n",
            "Subject 25 not found\n",
            "Subject 29 not found\n",
            "Subject 31 not found\n",
            "Subject 32 not found\n",
            "Subject 33 not found\n",
            "Subject 34 not found\n",
            "Subject 36 not found\n",
            "Subject 37 not found\n",
            "Subject 38 not found\n"
          ]
        }
      ],
      "source": [
        "window_size = 8000 # 8s\n",
        "\n",
        "extract_features_for_all_subjects(window_size)"
      ]
    }
  ],
  "metadata": {
    "colab": {
      "provenance": [],
      "mount_file_id": "186saJZyPTS9HzhPLeJHPyyrTfHUj5yCJ",
      "authorship_tag": "ABX9TyOkJrhOxjUj4ARFLeUq4OID",
      "include_colab_link": true
    },
    "kernelspec": {
      "display_name": "Python 3",
      "name": "python3"
    },
    "language_info": {
      "name": "python"
    }
  },
  "nbformat": 4,
  "nbformat_minor": 0
}