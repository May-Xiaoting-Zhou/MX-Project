{
  "nbformat": 4,
  "nbformat_minor": 0,
  "metadata": {
    "colab": {
      "provenance": [],
      "collapsed_sections": [
        "wtfzgAdj824e",
        "E5fteuw_K6Tr",
        "eEDd3iMGL1Cx",
        "H_o_-URCBS4S",
        "UZshsl-tCDJs",
        "zAOvUHBjz0pA"
      ],
      "mount_file_id": "1x7rk95rGimvPq3wMtPZVY4U6D_XAmUKT",
      "authorship_tag": "ABX9TyNki0TIh0tZ0ODdoQ9tqYR5",
      "include_colab_link": true
    },
    "kernelspec": {
      "name": "python3",
      "display_name": "Python 3"
    },
    "language_info": {
      "name": "python"
    }
  },
  "cells": [
    {
      "cell_type": "markdown",
      "metadata": {
        "id": "view-in-github",
        "colab_type": "text"
      },
      "source": [
        "<a href=\"https://colab.research.google.com/github/May-Xiaoting-Zhou/MX-Project/blob/main/code/MX_2_Data_Preprocessing.ipynb\" target=\"_parent\"><img src=\"https://colab.research.google.com/assets/colab-badge.svg\" alt=\"Open In Colab\"/></a>"
      ]
    },
    {
      "cell_type": "code",
      "source": [
        "import os\n",
        "import shutil\n",
        "import pandas as pd\n",
        "import glob\n"
      ],
      "metadata": {
        "id": "7BEDNCreLAGO"
      },
      "execution_count": null,
      "outputs": []
    },
    {
      "cell_type": "markdown",
      "source": [
        "# Raw Data Preprocessing\n",
        "## extract(unzip) zip to folder"
      ],
      "metadata": {
        "id": "wtfzgAdj824e"
      }
    },
    {
      "cell_type": "code",
      "source": [
        "# prompt: unzip /content/drive/MyDrive/MX_2/Subject_1.zip\n",
        "\n",
        "for sub in range(62, 81):\n",
        "  !unzip /content/drive/MyDrive/MX_2/Subject_{sub}.zip -d /content/drive/MyDrive/MX_2/Subject_{sub}/\n"
      ],
      "metadata": {
        "id": "gs0ytDPzxR5V"
      },
      "execution_count": null,
      "outputs": []
    },
    {
      "cell_type": "markdown",
      "source": [
        "### Unrar rar file"
      ],
      "metadata": {
        "id": "qhA-rChu96Ow"
      }
    },
    {
      "cell_type": "code",
      "source": [
        "for sub in range(61, 62):\n",
        "  # !unrar x /content/drive/MyDrive/MX_2/EEG/Subject_{sub}/OpenBCISession_Subject_{sub}_Baseline.rar /content/drive/MyDrive/MX_2/EEG/Subject_{sub}/\n",
        "  # !unrar x /content/drive/MyDrive/MX_2/EEG/Subject_{sub}/OpenBCISession_Subject_{sub}_Exam.rar /content/drive/MyDrive/MX_2/EEG/Subject_{sub}/\n",
        "  # !unrar x /content/drive/MyDrive/MX_2/EEG/0_Raw/OpenBCISession_Subject_{sub}_Training.rar /content/drive/MyDrive/MX_2/EEG/0_Raw/Subject_{sub}/\n",
        "\n",
        "  # !unrar x /content/drive/MyDrive/MX_2/Subject_{sub}/Pupil_Exam.rar /content/drive/MyDrive/MX_2/Subject_{sub}/\n",
        "  # !unrar x /content/drive/MyDrive/MX_2/Subject_{sub}/Pupil_Training.rar /content/drive/MyDrive/MX_2/Subject_{sub}/\n",
        "  # !unrar x /content/drive/MyDrive/MX_2/Subject_{sub}/Subject_{sub}_OSHA.rar /content/drive/MyDrive/MX_2/Subject_{sub}/\n",
        "\n",
        "  !unrar x /content/drive/MyDrive/MX_2/OSHA/Subject_{sub}_OSHA.rar /content/drive/MyDrive/MX_2/OSHA/Subject_{sub}_OSHA/\n",
        "\n"
      ],
      "metadata": {
        "id": "B48CiAX09-a1",
        "colab": {
          "base_uri": "https://localhost:8080/"
        },
        "outputId": "58b213a9-b29c-4246-e520-8aa03c271a9f"
      },
      "execution_count": null,
      "outputs": [
        {
          "output_type": "stream",
          "name": "stdout",
          "text": [
            "\n",
            "UNRAR 6.11 beta 1 freeware      Copyright (c) 1993-2022 Alexander Roshal\n",
            "\n",
            "\n",
            "Extracting from /content/drive/MyDrive/MX_2/OSHA/Subject_61_OSHA.rar\n",
            "\n",
            "Creating    /content/drive/MyDrive/MX_2/OSHA/Subject_61_OSHA          OK\n",
            "Creating    /content/drive/MyDrive/MX_2/OSHA/Subject_61_OSHA/Subject_61_OSHA  OK\n",
            "Extracting  /content/drive/MyDrive/MX_2/OSHA/Subject_61_OSHA/Subject_61_OSHA/ExaminatioJson.txt     \b\b\b\b  7%\b\b\b\b\b  OK \n",
            "Extracting  /content/drive/MyDrive/MX_2/OSHA/Subject_61_OSHA/Subject_61_OSHA/FinishJson.txt     \b\b\b\b  8%\b\b\b\b\b  OK \n",
            "Extracting  /content/drive/MyDrive/MX_2/OSHA/Subject_61_OSHA/Subject_61_OSHA/FinishList.csv     \b\b\b\b 10%\b\b\b\b\b  OK \n",
            "Extracting  /content/drive/MyDrive/MX_2/OSHA/Subject_61_OSHA/Subject_61_OSHA/HeadMovementData.csv     \b\b\b\b 95%\b\b\b\b\b  OK \n",
            "Extracting  /content/drive/MyDrive/MX_2/OSHA/Subject_61_OSHA/Subject_61_OSHA/ObjectList.csv     \b\b\b\b 99%\b\b\b\b\b  OK \n",
            "All OK\n"
          ]
        }
      ]
    },
    {
      "cell_type": "code",
      "source": [
        "for sub in range(78, 79):\n",
        "  # !unrar x /content/drive/MyDrive/MX_2/Subject_{sub}/OpenBCISession_Subject_{sub}_Baseline.rar /content/drive/MyDrive/MX_2/Subject_{sub}/\n",
        "  # !unrar x /content/drive/MyDrive/MX_2/Subject_{sub}/OpenBCISession_Subject_{sub}_Exam.rar /content/drive/MyDrive/MX_2/Subject_{sub}/\n",
        "  # !unrar x /content/drive/MyDrive/MX_2/Subject_{sub}/OpenBCISession_Subject_{sub}_Training.rar /content/drive/MyDrive/MX_2/Subject_{sub}/\n"
      ],
      "metadata": {
        "id": "I_pok8mxBMbJ"
      },
      "execution_count": null,
      "outputs": []
    },
    {
      "cell_type": "code",
      "source": [
        "# prompt: read csv file name start with Subject_{sub}_EEG_Exam_RAW.csv under /content/drive/MyDrive/MX_2/EEG/0. Raw/\n",
        "\n",
        "import os\n",
        "import pandas as pd\n",
        "\n",
        "def read_csv_files(directory, subject_id):\n",
        "  \"\"\"Reads CSV files in a directory with a specific pattern.\n",
        "\n",
        "  Args:\n",
        "    directory: The directory to search for CSV files.\n",
        "    subject_id: The subject ID to filter files by.\n",
        "\n",
        "  Returns:\n",
        "    A list of pandas DataFrames, one for each matching CSV file.\n",
        "  \"\"\"\n",
        "  dataframes = []\n",
        "  for filename in os.listdir(directory):\n",
        "    if filename.startswith(f'Subject_{subject_id}_EEG'):\n",
        "      filepath = os.path.join(directory, filename)\n",
        "      try:\n",
        "        df = pd.read_csv(filepath)\n",
        "        dataframes.append(df)\n",
        "      except Exception as e:\n",
        "        print(f\"Error reading {filepath}: {e}\")\n",
        "  return dataframes\n",
        "\n",
        "\n",
        "# Example usage:\n",
        "directory_path = '/content/drive/MyDrive/MX_2/EEG/0. Raw/Subject_46_61_Raw/'\n",
        "for subject_id in range(1, 39):\n",
        "  dataframes = read_csv_files(directory_path, subject_id)\n",
        "\n",
        "  if dataframes:\n",
        "    print(f\"Found {len(dataframes)} CSV files for subject {subject_id}\")\n",
        "    # Access the dataframes individually\n",
        "    for i, df in enumerate(dataframes):\n",
        "      print(f\"DataFrame {i+1}:\")\n",
        "      print(df.head(5))  # Print the first few rows of each dataframe\n",
        "  else:\n",
        "    print(f\"No CSV files found for subject {subject_id} in {directory_path}\")\n"
      ],
      "metadata": {
        "id": "8lSfiPwdggLH"
      },
      "execution_count": null,
      "outputs": []
    },
    {
      "cell_type": "code",
      "source": [
        "# prompt: rename files under  /Empatica_Exam.zip under content/drive/MyDrive/Subject_46/ to Subject_1_original name\n",
        "\n",
        "import os\n",
        "import shutil\n",
        "\n",
        "# Define the source and destination directories\n",
        "source_dir = '/content/drive/MyDrive/Subject_46/'\n",
        "destination_dir = '/content/drive/MyDrive/Subject_46/'\n",
        "\n",
        "# Iterate through the files in the source directory\n",
        "for filename in os.listdir(source_dir):\n",
        "  if filename.startswith('Empatica'):\n",
        "    # Construct the new filename\n",
        "    new_filename = 'Subject_1_' + filename\n",
        "\n",
        "    # Construct the full paths for the old and new filenames\n",
        "    old_filepath = os.path.join(source_dir, filename)\n",
        "    new_filepath = os.path.join(destination_dir, new_filename)\n",
        "\n",
        "    # Rename the file\n",
        "    try:\n",
        "        os.rename(old_filepath, new_filepath)\n",
        "        print(f\"Renamed {filename} to {new_filename}\")\n",
        "    except Exception as e:\n",
        "        print(f\"Error renaming {filename}: {e}\")"
      ],
      "metadata": {
        "id": "TLEhbMylKI0e"
      },
      "execution_count": null,
      "outputs": []
    },
    {
      "cell_type": "markdown",
      "source": [
        "# Rename file name"
      ],
      "metadata": {
        "id": "E5fteuw_K6Tr"
      }
    },
    {
      "cell_type": "code",
      "source": [
        "def rename_files(sub, name):\n",
        "  source_dir = f'/content/drive/MyDrive/MX_2/EEG/0_Raw/OpenBCISession_Subject_{sub}_{name}'\n",
        "\n",
        "  #Subject_46_EEG_Baseline_Raw\n",
        "\n",
        "  # Iterate through the files in the source directory\n",
        "  for filename in os.listdir(source_dir):\n",
        "    if filename.startswith('OpenBCI-RAW'): # or filename.startswith('Pupil')\n",
        "      # Construct the new filename\n",
        "      new_filename = f'Subject_{sub}_EEG_{name}_Raw.txt'\n",
        "\n",
        "      # Construct the full paths for the old and new filenames\n",
        "      old_filepath = os.path.join(source_dir, filename)\n",
        "      source_dir_new = '/content/drive/MyDrive/MX_2/EEG/0_Raw'\n",
        "      new_filepath = os.path.join(source_dir_new, new_filename)\n",
        "\n",
        "      # Rename the file\n",
        "      try:\n",
        "          os.rename(old_filepath, new_filepath)\n",
        "          print(f\"Renamed {filename} to {new_filename}\")\n",
        "      except Exception as e:\n",
        "          print(f\"Error renaming {filename}: {e}\")"
      ],
      "metadata": {
        "id": "_ewSmq1tUZpn"
      },
      "execution_count": null,
      "outputs": []
    },
    {
      "cell_type": "code",
      "source": [
        "for sub in range(46, 62):\n",
        "  try:\n",
        "    rename_files(sub, 'Exam')\n",
        "  except:\n",
        "    pass"
      ],
      "metadata": {
        "colab": {
          "base_uri": "https://localhost:8080/"
        },
        "id": "IdKeN7Hu65GN",
        "outputId": "c9d6e44e-fccc-4179-efa0-c77cdc6d5311"
      },
      "execution_count": null,
      "outputs": [
        {
          "output_type": "stream",
          "name": "stdout",
          "text": [
            "Renamed OpenBCI-RAW-2024-07-01_13-33-29.txt to Subject_46_EEG_Exam_Raw.txt\n",
            "Renamed OpenBCI-RAW-2024-07-09_11-19-38.txt to Subject_47_EEG_Exam_Raw.txt\n",
            "Renamed OpenBCI-RAW-2024-07-09_13-16-18.txt to Subject_48_EEG_Exam_Raw.txt\n",
            "Renamed OpenBCI-RAW-2024-07-12_15-36-23.txt to Subject_49_EEG_Exam_Raw.txt\n",
            "Renamed OpenBCI-RAW-2024-07-17_10-46-18.txt to Subject_50_EEG_Exam_Raw.txt\n",
            "Renamed OpenBCI-RAW-2024-07-25_15-37-21.txt to Subject_53_EEG_Exam_Raw.txt\n",
            "Renamed OpenBCI-RAW-2024-08-08_13-54-48.txt to Subject_56_EEG_Exam_Raw.txt\n",
            "Renamed OpenBCI-RAW-2024-08-19_13-37-35.txt to Subject_57_EEG_Exam_Raw.txt\n",
            "Renamed OpenBCI-RAW-2024-09-09_13-48-15.txt to Subject_61_EEG_Exam_Raw.txt\n"
          ]
        }
      ]
    },
    {
      "cell_type": "markdown",
      "source": [
        "# Move file"
      ],
      "metadata": {
        "id": "eEDd3iMGL1Cx"
      }
    },
    {
      "cell_type": "code",
      "source": [
        "def move_file(source_path, destination_path):\n",
        "  try:\n",
        "    shutil.move(source_path, destination_path)\n",
        "    print(f\"Moved {source_path} to {destination_path}\")\n",
        "  except Exception as e:\n",
        "    print(f\"Error moving file: {e}\")"
      ],
      "metadata": {
        "id": "R8sGQs3nMECZ"
      },
      "execution_count": null,
      "outputs": []
    },
    {
      "cell_type": "code",
      "source": [
        "destination_path = '/content/drive/MyDrive/MX_2/Empatica'\n",
        "for sub in range(11, 40):\n",
        "  try:\n",
        "    source_path = f'/content/drive/MyDrive/MX_2/Empatica/Subject_{sub}/Subject_{sub}_Empatica_Exam'\n",
        "    move_file(source_path, '/content/drive/MyDrive/MX_2/Empatica/Exam')\n",
        "    source_path = f'/content/drive/MyDrive/MX_2/Empatica/Subject_{sub}/Subject_{sub}_Empatica_Training'\n",
        "    move_file(source_path, destination_path + '/Training')\n",
        "  except Exception as e:\n",
        "    pass"
      ],
      "metadata": {
        "id": "v6xSkG5BLk8m"
      },
      "execution_count": null,
      "outputs": []
    },
    {
      "cell_type": "code",
      "source": [
        "destination_path = '/content/drive/MyDrive/MX_2/Pupil'\n",
        "for sub in range(78, 79):\n",
        "  try:\n",
        "    source_path = f'/content/drive/MyDrive/MX_2/Subject_{sub}/Subject_{sub}_Pupil_Exam'\n",
        "    move_file(source_path, destination_path)\n",
        "    source_path = f'/content/drive/MyDrive/MX_2/Subject_{sub}/Subject_{sub}_Pupil_Training'\n",
        "    move_file(source_path, destination_path)\n",
        "  except Exception as e:\n",
        "    pass"
      ],
      "metadata": {
        "colab": {
          "base_uri": "https://localhost:8080/"
        },
        "id": "7vmIM9_aMOc1",
        "outputId": "a19339f3-2176-4dc9-9870-d8fd5cd5b01d"
      },
      "execution_count": null,
      "outputs": [
        {
          "output_type": "stream",
          "name": "stdout",
          "text": [
            "Error moving file: Destination path '/content/drive/MyDrive/MX_2/Pupil/Subject_78_Pupil_Exam' already exists\n",
            "Moved /content/drive/MyDrive/MX_2/Subject_78/Subject_78_Pupil_Training to /content/drive/MyDrive/MX_2/Pupil\n"
          ]
        }
      ]
    },
    {
      "cell_type": "code",
      "source": [
        "destination_path = '/content/drive/MyDrive/MX_2/OSHA'\n",
        "for sub in range(62, 81):\n",
        "  try:\n",
        "    source_path = f'/content/drive/MyDrive/MX_2/Subject_{sub}/Subject_{sub}_OSHA'\n",
        "    move_file(source_path, destination_path)\n",
        "\n",
        "  except Exception as e:\n",
        "    pass"
      ],
      "metadata": {
        "id": "j1yElUoS0X8H"
      },
      "execution_count": null,
      "outputs": []
    },
    {
      "cell_type": "code",
      "source": [
        "destination_path = '/content/drive/MyDrive/MX_2/EEG'\n",
        "for sub in range(66, 67):\n",
        "  try:\n",
        "    source_path = f'/content/drive/MyDrive/MX_2/Subject_{sub}/OpenBCISession_Subject_{sub}_Baseline'\n",
        "    move_file(source_path, destination_path)\n",
        "    source_path = f'/content/drive/MyDrive/MX_2/Subject_{sub}/OpenBCISession_Subject_{sub}_Exam'\n",
        "    move_file(source_path, destination_path)\n",
        "    source_path = f'/content/drive/MyDrive/MX_2/Subject_{sub}/OpenBCISession_Subject_{sub}_Training'\n",
        "    move_file(source_path, destination_path)\n",
        "  except Exception as e:\n",
        "    pass"
      ],
      "metadata": {
        "colab": {
          "base_uri": "https://localhost:8080/"
        },
        "id": "6kyXwOHO0iNK",
        "outputId": "e9fe8605-35a0-4029-bec4-08714421d756"
      },
      "execution_count": null,
      "outputs": [
        {
          "output_type": "stream",
          "name": "stdout",
          "text": [
            "Error moving file: Destination path '/content/drive/MyDrive/MX_2/EEG/OpenBCISession_Subject_66_Baseline' already exists\n",
            "Moved /content/drive/MyDrive/MX_2/Subject_66/OpenBCISession_Subject_66_Exam to /content/drive/MyDrive/MX_2/EEG\n",
            "Error moving file: Destination path '/content/drive/MyDrive/MX_2/EEG/OpenBCISession_Subject_66_Training' already exists\n"
          ]
        }
      ]
    },
    {
      "cell_type": "code",
      "source": [
        "# prompt: unzip all zip file under /content/drive/MyDrive/MX_2/Empatica to  /content/drive/MyDrive/MX_2/Empatica/sub_/\n",
        "\n",
        "import os\n",
        "import zipfile\n",
        "\n",
        "def unzip_files(source_dir):\n",
        "    for filename in os.listdir(source_dir):\n",
        "        if filename.endswith(\".zip\"):\n",
        "            filepath = os.path.join(source_dir, filename)\n",
        "            try:\n",
        "                with zipfile.ZipFile(filepath, 'r') as zip_ref:\n",
        "                  destination_dir = os.path.join(source_dir, filename.split('.')[0])\n",
        "                  zip_ref.extractall(destination_dir)\n",
        "                print(f\"Unzipped {filename} to {destination_dir}\")\n",
        "            except zipfile.BadZipFile:\n",
        "                print(f\"Error: {filename} is not a valid zip file.\")\n",
        "            except Exception as e:\n",
        "                print(f\"Error unzipping {filename}: {e}\")\n",
        "\n",
        "\n",
        "for sub in range(14, 44):\n",
        "  try:\n",
        "    source_dir = f'/content/drive/MyDrive/MX_2/Empatica/Subject_{sub}'\n",
        "    unzip_files(source_dir)\n",
        "  except:\n",
        "    pass\n",
        "\n",
        "# source_dir = \"/content/drive/MyDrive/MX_2/Empatica\"\n",
        "\n",
        "unzip_files(source_dir)"
      ],
      "metadata": {
        "id": "tu25y9n9uUc9"
      },
      "execution_count": null,
      "outputs": []
    },
    {
      "cell_type": "code",
      "source": [
        "# prompt: rename folder name by adding parent folder name for /content/drive/MyDrive/MX_2/Empatica/Subject_14/Empatica_Exam\n",
        "\n",
        "import os\n",
        "\n",
        "def rename_folder(parent_folder, folder_to_rename):\n",
        "  \"\"\"Renames a folder by prepending the parent folder's name.\n",
        "\n",
        "  Args:\n",
        "    parent_folder: The path to the parent folder.\n",
        "    folder_to_rename: The path to the folder to be renamed.\n",
        "  \"\"\"\n",
        "  try:\n",
        "    parent_folder_name = os.path.basename(parent_folder)\n",
        "    current_folder_name = os.path.basename(folder_to_rename)\n",
        "    new_folder_name = parent_folder_name + \"_\" + current_folder_name\n",
        "    new_folder_path = os.path.join(os.path.dirname(folder_to_rename), new_folder_name)\n",
        "    os.rename(folder_to_rename, new_folder_path)\n",
        "    print(f\"Renamed '{current_folder_name}' to '{new_folder_name}'\")\n",
        "  except FileNotFoundError:\n",
        "    print(f\"Error: Folder '{folder_to_rename}' not found.\")\n",
        "  except FileExistsError:\n",
        "    print(f\"Error: Folder '{new_folder_name}' already exists.\")\n",
        "  except OSError as e:\n",
        "    print(f\"Error renaming folder: {e}\")\n",
        "\n",
        "# Example usage:\n",
        "for sub in range(11, 43):\n",
        "  parent_folder = f'/content/drive/MyDrive/MX_2/Empatica/Subject_{sub}'\n",
        "  for child_name in [\"Exam\", \"Training\"]:\n",
        "    folder_to_rename = parent_folder + f'/Empatica_{child_name}'\n",
        "    rename_folder(parent_folder, folder_to_rename)"
      ],
      "metadata": {
        "id": "VTEGFOtxKa-6"
      },
      "execution_count": null,
      "outputs": []
    },
    {
      "cell_type": "markdown",
      "source": [
        "# 1. Raw EEG data preprocessing\n",
        "## 1. 1. convert EEG txt file to csv file"
      ],
      "metadata": {
        "id": "H_o_-URCBS4S"
      }
    },
    {
      "cell_type": "code",
      "source": [
        "import os\n",
        "import pandas as pd\n",
        "def read_txt_files(path):\n",
        "  \"\"\"\n",
        "  Reads all txt files under a given path.\n",
        "\n",
        "  Args:\n",
        "    path: The path to the directory containing the txt files.\n",
        "\n",
        "  Returns:\n",
        "    A list of strings, where each string is the content of a txt file.\n",
        "  \"\"\"\n",
        "\n",
        "  txt_files = []\n",
        "  for filename in os.listdir(path):\n",
        "\n",
        "    if filename.endswith('txt'):\n",
        "        txt_files.append(os.path.join(path, filename))\n",
        "\n",
        "  return txt_files\n",
        "# for name in ['Baseline', 'Exam', 'Training', 'baseline']:\n",
        "  # for i in range(10, 39):\n",
        "path = f'/content/drive/MyDrive/MX_2/EEG/0_Raw'\n",
        "try:\n",
        "  txt_files = read_txt_files(path)\n",
        "  print('OK', txt_files)\n",
        "  # Print the content of each txt file\n",
        "  for filename in txt_files:\n",
        "    # Read data from line 5\n",
        "    data = pd.read_table(filename, skiprows=4, sep=',', header=None)\n",
        "    new_filename = filename[:-4] + '.csv'\n",
        "    data.to_csv(new_filename)\n",
        "except FileNotFoundError:\n",
        "  print('FileNotFoundError:', path)\n"
      ],
      "metadata": {
        "id": "wyXu8JkRBSno",
        "colab": {
          "base_uri": "https://localhost:8080/"
        },
        "outputId": "cc52c7e2-9224-4f07-bf88-beaf05326483"
      },
      "execution_count": null,
      "outputs": [
        {
          "output_type": "stream",
          "name": "stdout",
          "text": [
            "OK ['/content/drive/MyDrive/MX_2/EEG/0_Raw/Subject_46_EEG_Exam_Raw.txt', '/content/drive/MyDrive/MX_2/EEG/0_Raw/Subject_47_EEG_Exam_Raw.txt', '/content/drive/MyDrive/MX_2/EEG/0_Raw/Subject_48_EEG_Exam_Raw.txt', '/content/drive/MyDrive/MX_2/EEG/0_Raw/Subject_49_EEG_Exam_Raw.txt', '/content/drive/MyDrive/MX_2/EEG/0_Raw/Subject_50_EEG_Exam_Raw.txt', '/content/drive/MyDrive/MX_2/EEG/0_Raw/Subject_53_EEG_Exam_Raw.txt', '/content/drive/MyDrive/MX_2/EEG/0_Raw/Subject_56_EEG_Exam_Raw.txt', '/content/drive/MyDrive/MX_2/EEG/0_Raw/Subject_57_EEG_Exam_Raw.txt', '/content/drive/MyDrive/MX_2/EEG/0_Raw/Subject_61_EEG_Exam_Raw.txt']\n"
          ]
        },
        {
          "output_type": "stream",
          "name": "stderr",
          "text": [
            "<ipython-input-7-e32d6ad1dc84>:30: DtypeWarning: Columns (0,1,2,3,4,5,6,7,8,9,10,11,12,13,14,15,16,17,18,19,20,21,22,23,24,25,26,27,28,29,30,31) have mixed types. Specify dtype option on import or set low_memory=False.\n",
            "  data = pd.read_table(filename, skiprows=4, sep=',', header=None)\n",
            "<ipython-input-7-e32d6ad1dc84>:30: DtypeWarning: Columns (0,1,2,3,4,5,6,7,8,9,10,11,12,13,14,15,16,17,18,19,20,21,22,23,24,25,26,27,28,29,30,31) have mixed types. Specify dtype option on import or set low_memory=False.\n",
            "  data = pd.read_table(filename, skiprows=4, sep=',', header=None)\n",
            "<ipython-input-7-e32d6ad1dc84>:30: DtypeWarning: Columns (0,1,2,3,4,5,6,7,8,9,10,11,12,13,14,15,16,17,18,19,20,21,22,23,24,25,26,27,28,29,30,31) have mixed types. Specify dtype option on import or set low_memory=False.\n",
            "  data = pd.read_table(filename, skiprows=4, sep=',', header=None)\n",
            "<ipython-input-7-e32d6ad1dc84>:30: DtypeWarning: Columns (0,1,2,3,4,5,6,7,8,9,10,11,12,13,14,15,16,17,18,19,20,21,22,23,24,25,26,27,28,29,30,31) have mixed types. Specify dtype option on import or set low_memory=False.\n",
            "  data = pd.read_table(filename, skiprows=4, sep=',', header=None)\n",
            "<ipython-input-7-e32d6ad1dc84>:30: DtypeWarning: Columns (0,1,2,3,4,5,6,7,8,9,10,11,12,13,14,15,16,17,18,19,20,21,22,23,24,25,26,27,28,29,30,31) have mixed types. Specify dtype option on import or set low_memory=False.\n",
            "  data = pd.read_table(filename, skiprows=4, sep=',', header=None)\n",
            "<ipython-input-7-e32d6ad1dc84>:30: DtypeWarning: Columns (0,1,2,3,4,5,6,7,8,9,10,11,12,13,14,15,16,17,18,19,20,21,22,23,24,25,26,27,28,29,30,31) have mixed types. Specify dtype option on import or set low_memory=False.\n",
            "  data = pd.read_table(filename, skiprows=4, sep=',', header=None)\n",
            "<ipython-input-7-e32d6ad1dc84>:30: DtypeWarning: Columns (0,1,2,3,4,5,6,7,8,9,10,11,12,13,14,15,16,17,18,19,20,21,22,23,24,25,26,27,28,29,30,31) have mixed types. Specify dtype option on import or set low_memory=False.\n",
            "  data = pd.read_table(filename, skiprows=4, sep=',', header=None)\n",
            "<ipython-input-7-e32d6ad1dc84>:30: DtypeWarning: Columns (0,1,2,3,4,5,6,7,8,9,10,11,12,13,14,15,16,17,18,19,20,21,22,23,24,25,26,27,28,29,30,31) have mixed types. Specify dtype option on import or set low_memory=False.\n",
            "  data = pd.read_table(filename, skiprows=4, sep=',', header=None)\n",
            "<ipython-input-7-e32d6ad1dc84>:30: DtypeWarning: Columns (0,1,2,3,4,5,6,7,8,9,10,11,12,13,14,15,16,17,18,19,20,21,22,23,24,25,26,27,28,29,30,31) have mixed types. Specify dtype option on import or set low_memory=False.\n",
            "  data = pd.read_table(filename, skiprows=4, sep=',', header=None)\n"
          ]
        }
      ]
    },
    {
      "cell_type": "code",
      "source": [
        "name = 'Exam' #'Exam'\n",
        "for sub in range(46, 62):\n",
        "  path = f'/content/drive/MyDrive/MX_2/EEG/0_Raw/Subject_{sub}_EEG_{name}_Raw.csv'\n",
        "  try:\n",
        "    df = pd.read_csv(path)\n",
        "    df.columns = df.iloc[0]  # Set the first row as column names\n",
        "    df = df[1:]  # Remove the first row (now duplicated as column names)\n",
        "    df = df.iloc[:, 1:]\n",
        "    df.to_csv(f'/content/drive/MyDrive/MX_2/EEG/0_Raw/{name}/Subject_{sub}_EEG_{name}_Raw.csv', index=False)\n",
        "  except:\n",
        "    pass"
      ],
      "metadata": {
        "colab": {
          "base_uri": "https://localhost:8080/"
        },
        "id": "MLy4_yQ35BId",
        "outputId": "bab93812-f370-4c8f-85ea-85234b0da8ec"
      },
      "execution_count": null,
      "outputs": [
        {
          "output_type": "stream",
          "name": "stderr",
          "text": [
            "<ipython-input-8-4d8ce44d3e5a>:5: DtypeWarning: Columns (1,2,3,4,5,6,7,8,9,10,11,12,13,14,15,16,17,18,19,20,21,22,23,24,25,26,27,28,29,30,31,32) have mixed types. Specify dtype option on import or set low_memory=False.\n",
            "  df = pd.read_csv(path)\n",
            "<ipython-input-8-4d8ce44d3e5a>:5: DtypeWarning: Columns (1,2,3,4,5,6,7,8,9,10,11,12,13,14,15,16,17,18,19,20,21,22,23,24,25,26,27,28,29,30,31,32) have mixed types. Specify dtype option on import or set low_memory=False.\n",
            "  df = pd.read_csv(path)\n",
            "<ipython-input-8-4d8ce44d3e5a>:5: DtypeWarning: Columns (1,2,3,4,5,6,7,8,9,10,11,12,13,14,15,16,17,18,19,20,21,22,23,24,25,26,27,28,29,30,31,32) have mixed types. Specify dtype option on import or set low_memory=False.\n",
            "  df = pd.read_csv(path)\n",
            "<ipython-input-8-4d8ce44d3e5a>:5: DtypeWarning: Columns (1,2,3,4,5,6,7,8,9,10,11,12,13,14,15,16,17,18,19,20,21,22,23,24,25,26,27,28,29,30,31,32) have mixed types. Specify dtype option on import or set low_memory=False.\n",
            "  df = pd.read_csv(path)\n",
            "<ipython-input-8-4d8ce44d3e5a>:5: DtypeWarning: Columns (1,2,3,4,5,6,7,8,9,10,11,12,13,14,15,16,17,18,19,20,21,22,23,24,25,26,27,28,29,30,31,32) have mixed types. Specify dtype option on import or set low_memory=False.\n",
            "  df = pd.read_csv(path)\n",
            "<ipython-input-8-4d8ce44d3e5a>:5: DtypeWarning: Columns (1,2,3,4,5,6,7,8,9,10,11,12,13,14,15,16,17,18,19,20,21,22,23,24,25,26,27,28,29,30,31,32) have mixed types. Specify dtype option on import or set low_memory=False.\n",
            "  df = pd.read_csv(path)\n",
            "<ipython-input-8-4d8ce44d3e5a>:5: DtypeWarning: Columns (1,2,3,4,5,6,7,8,9,10,11,12,13,14,15,16,17,18,19,20,21,22,23,24,25,26,27,28,29,30,31,32) have mixed types. Specify dtype option on import or set low_memory=False.\n",
            "  df = pd.read_csv(path)\n",
            "<ipython-input-8-4d8ce44d3e5a>:5: DtypeWarning: Columns (1,2,3,4,5,6,7,8,9,10,11,12,13,14,15,16,17,18,19,20,21,22,23,24,25,26,27,28,29,30,31,32) have mixed types. Specify dtype option on import or set low_memory=False.\n",
            "  df = pd.read_csv(path)\n",
            "<ipython-input-8-4d8ce44d3e5a>:5: DtypeWarning: Columns (1,2,3,4,5,6,7,8,9,10,11,12,13,14,15,16,17,18,19,20,21,22,23,24,25,26,27,28,29,30,31,32) have mixed types. Specify dtype option on import or set low_memory=False.\n",
            "  df = pd.read_csv(path)\n"
          ]
        }
      ]
    },
    {
      "cell_type": "code",
      "source": [
        "name = 'Training' #'Exam'\n",
        "for sub in range(10, 14):\n",
        "  path = f'/content/drive/MyDrive/MX_2/EEG/0_Raw/{name}/Subject_{sub}_EEG_{name}_Raw.csv'\n",
        "  try:\n",
        "    df = pd.read_csv(path)\n",
        "    print(df.head())\n",
        "  except:\n",
        "    pass"
      ],
      "metadata": {
        "colab": {
          "base_uri": "https://localhost:8080/"
        },
        "id": "lTJY707e5NBc",
        "outputId": "5cb01eaa-b144-4abe-be06-f08f96176143"
      },
      "execution_count": null,
      "outputs": [
        {
          "output_type": "stream",
          "name": "stdout",
          "text": [
            "   Sample Index   EXG Channel 0   EXG Channel 1   EXG Channel 2  \\\n",
            "0           0.0  -117337.471823   -99730.309812  -137259.782822   \n",
            "1           2.0  -235074.391672  -199211.710597  -275713.685240   \n",
            "2           4.0  -234728.587833  -199406.975437  -275450.493449   \n",
            "3           6.0  -235167.263170  -199192.532801  -275314.907767   \n",
            "4           8.0  -234847.744983  -199359.701498  -275596.070361   \n",
            "\n",
            "    EXG Channel 3   EXG Channel 4   EXG Channel 5   EXG Channel 6  \\\n",
            "0  -134252.221495  -154023.389998  -141338.417392   -64775.355431   \n",
            "1  -269821.810105  -309243.514746  -283110.950364  -131913.536121   \n",
            "2  -269395.674097  -308714.046623  -282806.988991  -130471.110996   \n",
            "3  -269310.513951  -309189.937614  -283163.923998  -131839.909475   \n",
            "4  -269636.603551  -308877.460227  -282924.268594  -130649.880248   \n",
            "\n",
            "    EXG Channel 7   EXG Channel 8  ...   Other.3   Other.4   Other.5  \\\n",
            "0  -114744.848281  -132342.086118  ...       6.0     104.0     114.5   \n",
            "1  -230493.379294  -251317.516126  ...       0.0       0.0       0.0   \n",
            "2  -229774.949524  -251734.599678  ...       0.0       0.0       0.0   \n",
            "3  -230435.175352  -251313.962199  ...       0.0       0.0       0.0   \n",
            "4  -229794.261431  -251945.421332  ...       6.0     120.0     114.0   \n",
            "\n",
            "    Other.6   Analog Channel 0   Analog Channel 1   Analog Channel 2  \\\n",
            "0       0.0                0.0                0.0                0.0   \n",
            "1       0.0                0.0                0.0                0.0   \n",
            "2       0.0                0.0                0.0                0.0   \n",
            "3       0.0                0.0                0.0                0.0   \n",
            "4      88.0                0.0                0.0                0.0   \n",
            "\n",
            "      Timestamp   Other.7     Timestamp (Formatted)  \n",
            "0  1.709400e+09       0.0   2024-03-02 11:17:26.483  \n",
            "1  1.709400e+09       0.0   2024-03-02 11:17:26.489  \n",
            "2  1.709400e+09       0.0   2024-03-02 11:17:26.498  \n",
            "3  1.709400e+09       0.0   2024-03-02 11:17:26.506  \n",
            "4  1.709400e+09       0.0   2024-03-02 11:17:26.515  \n",
            "\n",
            "[5 rows x 33 columns]\n",
            "   Sample Index   EXG Channel 0   EXG Channel 1   EXG Channel 2  \\\n",
            "0           0.0  -132474.721369  -124757.535727   -99487.838088   \n",
            "1           2.0  -264857.979400  -249438.024990  -199003.571153   \n",
            "2           4.0  -264963.122006  -249533.846919  -198988.014339   \n",
            "3           6.0  -264872.664496  -249451.234871  -199019.195022   \n",
            "4           8.0  -264957.623477  -249523.252192  -198967.227217   \n",
            "\n",
            "    EXG Channel 3   EXG Channel 4   EXG Channel 5   EXG Channel 6  \\\n",
            "0  -100983.370958  -102005.896211  -104958.539302  -102289.875125   \n",
            "1  -201863.543911  -203915.031721  -209814.484097  -204480.575559   \n",
            "2  -201982.768116  -204019.570830  -209931.562535  -204588.333319   \n",
            "3  -201889.494287  -203918.652704  -209828.364531  -204487.750469   \n",
            "4  -201967.747744  -204000.393033  -209909.568418  -204565.869816   \n",
            "\n",
            "    EXG Channel 7   EXG Channel 8  ...   Other.3   Other.4   Other.5  \\\n",
            "0  -111311.352111  -108094.109070  ...       9.5     112.0     117.0   \n",
            "1  -222525.407079  -207134.554641  ...       0.0       0.0       0.0   \n",
            "2  -222638.730423  -207148.837405  ...       0.0       0.0       0.0   \n",
            "3  -222534.593646  -207169.423362  ...       0.0       0.0       0.0   \n",
            "4  -222615.663423  -207131.738321  ...       8.5      72.0     116.0   \n",
            "\n",
            "    Other.6   Analog Channel 0   Analog Channel 1   Analog Channel 2  \\\n",
            "0     112.0                0.0                0.0                0.0   \n",
            "1       0.0                0.0                0.0                0.0   \n",
            "2       0.0                0.0                0.0                0.0   \n",
            "3       0.0                0.0                0.0                0.0   \n",
            "4      32.0                0.0                0.0                0.0   \n",
            "\n",
            "      Timestamp   Other.7     Timestamp (Formatted)  \n",
            "0  1.709755e+09       0.0   2024-03-06 13:55:23.113  \n",
            "1  1.709755e+09       0.0   2024-03-06 13:55:23.121  \n",
            "2  1.709755e+09       0.0   2024-03-06 13:55:23.130  \n",
            "3  1.709755e+09       0.0   2024-03-06 13:55:23.138  \n",
            "4  1.709755e+09       0.0   2024-03-06 13:55:23.145  \n",
            "\n",
            "[5 rows x 33 columns]\n",
            "   Sample Index   EXG Channel 0   EXG Channel 1   EXG Channel 2  \\\n",
            "0           0.0  -148163.634320  -147232.035963   -39495.130121   \n",
            "1           2.0  -296283.012185  -294424.576393   -79482.847987   \n",
            "2           4.0  -296310.169555  -294447.978669   -79216.638710   \n",
            "3           6.0  -296277.781877  -294413.042893   -79630.101279   \n",
            "4           8.0  -296316.003360  -294449.789160   -79414.719869   \n",
            "\n",
            "    EXG Channel 3   EXG Channel 4   EXG Channel 5   EXG Channel 6  \\\n",
            "0  -132482.231555  -129791.103875  -124718.911912  -126422.919503   \n",
            "1  -264922.553590  -259529.703501  -249391.890990  -252812.646665   \n",
            "2  -264940.993779  -259582.274804  -249422.468176  -252835.378389   \n",
            "3  -264912.294139  -259546.534365  -249390.683996  -252806.812859   \n",
            "4  -264955.209488  -259580.464313  -249439.299040  -252848.923546   \n",
            "\n",
            "    EXG Channel 7   EXG Channel 8  ...   Other.3   Other.4   Other.5  \\\n",
            "0  -128873.721227  -140536.772077  ...      13.0       0.0     124.5   \n",
            "1  -257707.879866  -272845.799964  ...       0.0       0.0       0.0   \n",
            "2  -257736.646561  -272816.161551  ...       0.0       0.0       0.0   \n",
            "3  -257702.649558  -272830.980758  ...       0.0       0.0       0.0   \n",
            "4  -257749.118835  -272816.697993  ...      13.0      96.0     125.5   \n",
            "\n",
            "    Other.6   Analog Channel 0   Analog Channel 1   Analog Channel 2  \\\n",
            "0     104.0                0.0                0.0                0.0   \n",
            "1       0.0                0.0                0.0                0.0   \n",
            "2       0.0                0.0                0.0                0.0   \n",
            "3       0.0                0.0                0.0                0.0   \n",
            "4      32.0                0.0                0.0                0.0   \n",
            "\n",
            "      Timestamp   Other.7     Timestamp (Formatted)  \n",
            "0  1.709844e+09       0.0   2024-03-07 14:34:18.325  \n",
            "1  1.709844e+09       0.0   2024-03-07 14:34:18.330  \n",
            "2  1.709844e+09       0.0   2024-03-07 14:34:18.338  \n",
            "3  1.709844e+09       0.0   2024-03-07 14:34:18.346  \n",
            "4  1.709844e+09       0.0   2024-03-07 14:34:18.354  \n",
            "\n",
            "[5 rows x 33 columns]\n"
          ]
        }
      ]
    },
    {
      "cell_type": "code",
      "source": [
        "path = '/content/drive/MyDrive/MX_Project_Data/EEG/'\n",
        "fName = 'OpenBCI-RAW-2024-04-01_18-28-45.txt'\n",
        "txt_files = path + fName\n",
        "data = pd.read_table(txt_files, skiprows=4, sep=',', header=None)\n",
        "new_filename = path + 'Subject_10_EEG_Exam_' + fName[:-4] +'.csv'\n",
        "print(new_filename)\n",
        "data.to_csv(new_filename)"
      ],
      "metadata": {
        "colab": {
          "base_uri": "https://localhost:8080/"
        },
        "id": "mhDs0vcgMBzk",
        "outputId": "281bbc88-84ac-4859-accb-258dfb5d4b74"
      },
      "execution_count": null,
      "outputs": [
        {
          "output_type": "stream",
          "name": "stderr",
          "text": [
            "<ipython-input-9-1a521e29c773>:4: DtypeWarning: Columns (0,1,2,3,4,5,6,7,8,9,10,11,12,13,14,15,16,17,18,19,20,21,22,23,24,25,26,27,28,29,30,31) have mixed types. Specify dtype option on import or set low_memory=False.\n",
            "  data = pd.read_table(txt_files, skiprows=4, sep=',', header=None)\n"
          ]
        },
        {
          "output_type": "stream",
          "name": "stdout",
          "text": [
            "/content/drive/MyDrive/MX_Project_Data/EEG/Subject_10_EEG_Exam_OpenBCI-RAW-2024-04-01_18-28-45.csv\n"
          ]
        }
      ]
    },
    {
      "cell_type": "code",
      "source": [
        "data.to_csv(new_filename)"
      ],
      "metadata": {
        "id": "zLbGCWRiMMgH"
      },
      "execution_count": null,
      "outputs": []
    },
    {
      "cell_type": "code",
      "source": [
        "# prompt: check file name  if end with \"_Raw\" ignore upper or lower cases, if not add it to the file name, under /content/drive/MyDrive/MX_2/EEG/0. Raw/Baseline\n",
        "\n",
        "import os\n",
        "\n",
        "def check_and_rename(file_path):\n",
        "    \"\"\"Checks if a filename ends with \"_Raw\" (case-insensitive) and renames it if necessary.\"\"\"\n",
        "    file_name = os.path.basename(file_path)\n",
        "    if not file_name.lower().endswith(\"_raw\"):\n",
        "        new_file_name = file_name.split('.')[0] + \"_Raw.\" + file_name.split('.')[1]\n",
        "        new_file_path = os.path.join(os.path.dirname(file_path), new_file_name)\n",
        "\n",
        "        try:\n",
        "            os.rename(file_path, new_file_path)\n",
        "            print(f\"Renamed '{file_name}' to '{new_file_name}'\")\n",
        "        except FileNotFoundError:\n",
        "            print(f\"Error: File '{file_path}' not found.\")\n",
        "        except Exception as e:\n",
        "            print(f\"An error occurred: {e}\")\n",
        "    else:\n",
        "        print(f\"File '{file_name}' already ends with '_Raw' (case-insensitive).\")\n",
        "\n",
        "\n",
        "# Example usage\n",
        "for target in ['Baseline', 'Exam', 'Training']:\n",
        "  target_dir = f'/content/drive/MyDrive/MX_2/EEG/0. Raw/{target}'  # Replace with the actual directory\n",
        "  for filename in os.listdir(target_dir):\n",
        "      file_path = os.path.join(target_dir, filename)\n",
        "      if os.path.isfile(file_path):\n",
        "          check_and_rename(file_path)"
      ],
      "metadata": {
        "id": "3UYkWO0dAPN3"
      },
      "execution_count": null,
      "outputs": []
    },
    {
      "cell_type": "code",
      "source": [
        "# prompt: if file name end with _Raw_Raw.csv', change to _Raw.csv' under /content/drive/MyDrive/MX_2/EEG/0. Raw/Baseline\n",
        "\n",
        "import os\n",
        "import pandas as pd\n",
        "\n",
        "def rename_raw_files(directory):\n",
        "  \"\"\"Renames files ending with '_Raw_Raw.csv' to '_Raw.csv' in the specified directory.\"\"\"\n",
        "  for filename in os.listdir(directory):\n",
        "    if filename.endswith(\"_RAW_Raw.csv\"):\n",
        "      old_filepath = os.path.join(directory, filename)\n",
        "      new_filename = filename.replace(\"_RAW_Raw.csv\", \"_Raw.csv\")\n",
        "      new_filepath = os.path.join(directory, new_filename)\n",
        "      try:\n",
        "        os.rename(old_filepath, new_filepath)\n",
        "        print(f\"Renamed '{filename}' to '{new_filename}'\")\n",
        "      except OSError as e:\n",
        "        print(f\"Error renaming '{filename}': {e}\")\n",
        "\n",
        "# Example usage\n",
        "for target in ['Baseline', 'Exam', 'Training']:\n",
        "  directory = f\"/content/drive/MyDrive/MX_2/EEG/0. Raw/{target}\"\n",
        "  rename_raw_files(directory)"
      ],
      "metadata": {
        "id": "lm61-aWpA1OG"
      },
      "execution_count": null,
      "outputs": []
    },
    {
      "cell_type": "markdown",
      "source": [
        "### 1. 2. Rename and move EEG CSV file"
      ],
      "metadata": {
        "id": "UOoKlx0NELpW"
      }
    },
    {
      "cell_type": "code",
      "source": [
        "# prompt: move /content/drive/MyDrive/MX_2/Subject_19/OpenBCISession_Subject_19_Baseline/OpenBCI-RAW-2024-03-25_13-24-13.csv to /content/drive/MyDrive/MX_2/EEG\n",
        "\n",
        "import shutil\n",
        "\n",
        "source_path = '/content/drive/MyDrive/MX_2/Subject_19/OpenBCISession_Subject_19_Baseline/OpenBCI-RAW-2024-03-25_13-24-13.csv'\n",
        "destination_path = '/content/drive/MyDrive/MX_2/EEG'\n",
        "\n",
        "try:\n",
        "  shutil.move(source_path, destination_path)\n",
        "  print(f\"File moved successfully from {source_path} to {destination_path}\")\n",
        "except FileNotFoundError:\n",
        "  print(f\"Source file not found: {source_path}\")\n",
        "except Exception as e:\n",
        "  print(f\"An error occurred: {e}\")\n"
      ],
      "metadata": {
        "id": "-JrLDLOuGCQr"
      },
      "execution_count": null,
      "outputs": []
    },
    {
      "cell_type": "code",
      "source": [
        "import shutil\n",
        "def read_csv_files(path):\n",
        "  \"\"\"\n",
        "  Reads all txt files under a given path.\n",
        "\n",
        "  Args:\n",
        "    path: The path to the directory containing the txt files.\n",
        "\n",
        "  Returns:\n",
        "    A list of strings, where each string is the content of a txt file.\n",
        "  \"\"\"\n",
        "\n",
        "  csv_files = []\n",
        "  for filename in os.listdir(path):\n",
        "    if filename.endswith('.csv'):\n",
        "        csv_files.append(os.path.join(path, filename))\n",
        "\n",
        "  return csv_files\n",
        "for name in ['Baseline', 'Exam']:\n",
        "  for i in range(21, 39):\n",
        "\n",
        "      path = f'/content/drive/MyDrive/MX_2/Subject_{i}/OpenBCISession_Subject_{i}_{name}/'\n",
        "      try:\n",
        "        csv_files = read_csv_files(path)\n",
        "        # Print the content of each txt file\n",
        "        for filename in csv_files:\n",
        "          try:\n",
        "            if name == 'baseline':\n",
        "              name = 'Baseline'\n",
        "            new_filename = f'Subject_{i}_EEG_{name}.csv'\n",
        "            source_path = filename\n",
        "            destination_path = f'/content/drive/MyDrive/MX_2/EEG/{new_filename}'\n",
        "\n",
        "            print('source_path is ', source_path)\n",
        "            print('destination_path is ', destination_path)\n",
        "\n",
        "            shutil.move(source_path, destination_path)\n",
        "            print(f\"File moved successfully from {source_path} to {destination_path}\")\n",
        "          except FileNotFoundError:\n",
        "            print(f\"Source file not found: {source_path}\")\n",
        "          except Exception as e:\n",
        "            print(f\"An error occurred: {e}\")\n",
        "      except Exception as e:\n",
        "        print(f\"An error occurred: {e}\")\n"
      ],
      "metadata": {
        "id": "YLOXbPqEUsxm"
      },
      "execution_count": null,
      "outputs": []
    },
    {
      "cell_type": "markdown",
      "source": [
        "#### Others\n",
        "### Compare two files"
      ],
      "metadata": {
        "id": "vgLjIMlcM602"
      }
    },
    {
      "cell_type": "code",
      "source": [
        "# prompt: compare /content/drive/MyDrive/MX_2/EEG/Subject_11_EEG_Baseline.csv and /content/drive/MyDrive/MX_Project_Data/EEG/Subject_11_EEG_Baseline_OpenBCI-RAW-2024-05-03_13-29-46.csv is the same\n",
        "\n",
        "import pandas as pd\n",
        "\n",
        "def compare_csv_files(file1_path, file2_path):\n",
        "  \"\"\"\n",
        "  Compares two CSV files and returns True if they are identical, False otherwise.\n",
        "\n",
        "  Args:\n",
        "    file1_path: Path to the first CSV file.\n",
        "    file2_path: Path to the second CSV file.\n",
        "\n",
        "  Returns:\n",
        "    True if the files are identical, False otherwise.\n",
        "  \"\"\"\n",
        "  try:\n",
        "    df1 = pd.read_csv(file1_path)\n",
        "    df2 = pd.read_csv(file2_path)\n",
        "    print(len(df1) - len(df2))\n",
        "    # print(df1.head())\n",
        "    # print(df2.head())\n",
        "\n",
        "\n",
        "    # Compare the DataFrames\n",
        "    if df1.equals(df2):\n",
        "      return True\n",
        "    else:\n",
        "      return False\n",
        "\n",
        "  except FileNotFoundError:\n",
        "    print(f\"One or both files not found.\")\n",
        "    return False\n",
        "  except Exception as e:\n",
        "    print(f\"An error occurred: {e}\")\n",
        "    return False\n",
        "\n",
        "\n",
        "file1_path = '/content/drive/MyDrive/MX_2/EEG/Subject_20_EEG_Exam.csv'\n",
        "file2_path = '/content/drive/MyDrive/MX_Project_Data/EEG/Subject_20_EEG_Exam_OpenBCI-RAW-2024-03-29_19-38-17.csv'\n",
        "\n",
        "if compare_csv_files(file1_path, file2_path):\n",
        "  print(\"The files are identical.\")\n",
        "else:\n",
        "  print(\"The files are different.\")\n"
      ],
      "metadata": {
        "colab": {
          "base_uri": "https://localhost:8080/"
        },
        "id": "JDEvFvF1NFRN",
        "outputId": "7a02488c-f827-42f6-99b0-76acb2c462ba"
      },
      "execution_count": null,
      "outputs": [
        {
          "output_type": "stream",
          "name": "stderr",
          "text": [
            "<ipython-input-68-3142d298cde2>:17: DtypeWarning: Columns (1,2,3,4,5,6,7,8,9,10,11,12,13,14,15,16,17,18,19,20,21,22,23,24,25,26,27,28,29,30,31,32) have mixed types. Specify dtype option on import or set low_memory=False.\n",
            "  df1 = pd.read_csv(file1_path)\n"
          ]
        },
        {
          "output_type": "stream",
          "name": "stdout",
          "text": [
            "1\n",
            "The files are different.\n"
          ]
        }
      ]
    },
    {
      "cell_type": "markdown",
      "source": [
        "### Move OSHA files"
      ],
      "metadata": {
        "id": "cg5eXDt4kA5y"
      }
    },
    {
      "cell_type": "code",
      "source": [
        "# prompt: move /content/drive/MyDrive/MX_2/Subject_11/Subject_11_OSHA to /content/drive/MyDrive/MX_2/OSHA\n",
        "\n",
        "import shutil\n",
        "for sub in range(12, 21):\n",
        "  source_path = f'/content/drive/MyDrive/MX_2/Subject_{sub}/Subject {sub}'\n",
        "  destination_path = '/content/drive/MyDrive/MX_2/OSHA'\n",
        "\n",
        "  try:\n",
        "    shutil.move(source_path, destination_path)\n",
        "    print(f\"File moved successfully from {source_path} to {destination_path}\")\n",
        "  except FileNotFoundError:\n",
        "    print(f\"Source file not found: {source_path}\")\n",
        "  except Exception as e:\n",
        "    print(f\"An error occurred: {e}\")\n"
      ],
      "metadata": {
        "colab": {
          "base_uri": "https://localhost:8080/"
        },
        "id": "zUcOXhf2NSUG",
        "outputId": "f21f15de-d3ae-48cf-b2ca-b3ec1476f7a0"
      },
      "execution_count": null,
      "outputs": [
        {
          "output_type": "stream",
          "name": "stdout",
          "text": [
            "File moved successfully from /content/drive/MyDrive/MX_2/Subject_12/Subject 12 to /content/drive/MyDrive/MX_2/OSHA\n",
            "File moved successfully from /content/drive/MyDrive/MX_2/Subject_13/Subject 13 to /content/drive/MyDrive/MX_2/OSHA\n",
            "Source file not found: /content/drive/MyDrive/MX_2/Subject_14/Subject 14\n",
            "Source file not found: /content/drive/MyDrive/MX_2/Subject_15/Subject 15\n",
            "Source file not found: /content/drive/MyDrive/MX_2/Subject_16/Subject 16\n",
            "Source file not found: /content/drive/MyDrive/MX_2/Subject_17/Subject 17\n",
            "Source file not found: /content/drive/MyDrive/MX_2/Subject_18/Subject 18\n",
            "Source file not found: /content/drive/MyDrive/MX_2/Subject_19/Subject 19\n",
            "Source file not found: /content/drive/MyDrive/MX_2/Subject_20/Subject 20\n"
          ]
        }
      ]
    },
    {
      "cell_type": "code",
      "source": [
        "# prompt: show full data in the cell do not show e+\n",
        "\n",
        "import pandas as pd\n",
        "pd.set_option('display.float_format', lambda x: '%.3f' % x)\n"
      ],
      "metadata": {
        "id": "ngPK8xFuQCOR"
      },
      "execution_count": null,
      "outputs": []
    },
    {
      "cell_type": "code",
      "source": [
        "# prompt: convert /content/drive/MyDrive/MX_2/EEG/Subject_10_EEG_Exam_OpenBCI-RAW-2024-04-01_18-28-45.txt to csv file the first line is columns name\n",
        "\n",
        "import pandas as pd\n",
        "\n",
        "# Define the input file path\n",
        "input_file = '/content/drive/MyDrive/MX_2/EEG/Subject_10_EEG_Exam_OpenBCI-RAW-2024-04-01_18-28-45.txt'\n",
        "\n",
        "# Define the output file path\n",
        "output_file = '/content/drive/MyDrive/MX_2/EEG/Subject_10_EEG_Exam_OpenBCI-RAW-2024-04-01_18-28-45.csv'\n",
        "\n",
        "# Read the text file with space as delimiter\n",
        "try:\n",
        "  df = pd.read_csv(input_file, delim_whitespace=True)\n",
        "except pd.errors.ParserError as e:\n",
        "  print(f\"Error parsing file: {e}\")\n",
        "  # Handle the error, e.g., try a different delimiter or specify more options\n",
        "\n",
        "# Write the DataFrame to a CSV file\n",
        "df.to_csv(output_file, index=False)\n"
      ],
      "metadata": {
        "id": "leSq5TAiW8UC"
      },
      "execution_count": null,
      "outputs": []
    },
    {
      "cell_type": "code",
      "source": [
        "df_EEG = pd.read_csv('/content/drive/MyDrive/MX_2/EEG/Subject_10_EEG_Exam_OpenBCI_RAW_2024_04_01_18_28_45.csv')\n",
        "df_EEG.head()"
      ],
      "metadata": {
        "colab": {
          "base_uri": "https://localhost:8080/",
          "height": 255
        },
        "id": "LEnVRVJDOcVU",
        "outputId": "cc3e93c8-f7f7-4971-ca19-278a382a8be8"
      },
      "execution_count": null,
      "outputs": [
        {
          "output_type": "execute_result",
          "data": {
            "text/plain": [
              "   SampleIndex  EXGChannel0  EXGChannel1  EXGChannel2  EXGChannel3  \\\n",
              "0            0  -562500.067  -562500.067  -562500.067  -562500.067   \n",
              "1            2  -562500.067  -562500.067  -562500.067  -562500.067   \n",
              "2            4  -562500.067  -562500.067  -562500.067  -562500.067   \n",
              "3            6  -562500.067  -562500.067  -562500.067  -562500.067   \n",
              "4            8  -562500.067  -562500.067  -562500.067  -562500.067   \n",
              "\n",
              "   EXGChannel4  EXGChannel5  EXGChannel6  EXGChannel7  EXGChannel8  ...  \\\n",
              "0  -562500.067  -562500.067  -562500.067  -562500.067  -281250.034  ...   \n",
              "1  -562500.067  -562500.067  -562500.067  -562500.067  -562500.067  ...   \n",
              "2  -562500.067  -562500.067  -562500.067  -562500.067  -562500.067  ...   \n",
              "3  -562500.067  -562500.067  -562500.067  -562500.067  -562500.067  ...   \n",
              "4  -562500.067  -562500.067  -562500.067  -562500.067  -562500.067  ...   \n",
              "\n",
              "   Other3  Other4  Other5  Other6  AnalogChannel0  AnalogChannel1  \\\n",
              "0   6.000 112.000 124.000  56.000               0               0   \n",
              "1   0.000   0.000   0.000   0.000               0               0   \n",
              "2   0.000   0.000   0.000   0.000               0               0   \n",
              "3   9.500  64.000 122.000 112.000               0               0   \n",
              "4   0.000   0.000   0.000   0.000               0               0   \n",
              "\n",
              "   AnalogChannel2      Timestamp  Other7     Timestamp_Formatted_  \n",
              "0               0 1712014125.620       0  2024-04-01 18:28:45.620  \n",
              "1               0 1712014125.627       0  2024-04-01 18:28:45.627  \n",
              "2               0 1712014125.634       0  2024-04-01 18:28:45.634  \n",
              "3               0 1712014125.640       0  2024-04-01 18:28:45.640  \n",
              "4               0 1712014125.648       0  2024-04-01 18:28:45.648  \n",
              "\n",
              "[5 rows x 33 columns]"
            ],
            "text/html": [
              "\n",
              "  <div id=\"df-ce1135d5-b52f-48f4-9e8e-35013ea76244\" class=\"colab-df-container\">\n",
              "    <div>\n",
              "<style scoped>\n",
              "    .dataframe tbody tr th:only-of-type {\n",
              "        vertical-align: middle;\n",
              "    }\n",
              "\n",
              "    .dataframe tbody tr th {\n",
              "        vertical-align: top;\n",
              "    }\n",
              "\n",
              "    .dataframe thead th {\n",
              "        text-align: right;\n",
              "    }\n",
              "</style>\n",
              "<table border=\"1\" class=\"dataframe\">\n",
              "  <thead>\n",
              "    <tr style=\"text-align: right;\">\n",
              "      <th></th>\n",
              "      <th>SampleIndex</th>\n",
              "      <th>EXGChannel0</th>\n",
              "      <th>EXGChannel1</th>\n",
              "      <th>EXGChannel2</th>\n",
              "      <th>EXGChannel3</th>\n",
              "      <th>EXGChannel4</th>\n",
              "      <th>EXGChannel5</th>\n",
              "      <th>EXGChannel6</th>\n",
              "      <th>EXGChannel7</th>\n",
              "      <th>EXGChannel8</th>\n",
              "      <th>...</th>\n",
              "      <th>Other3</th>\n",
              "      <th>Other4</th>\n",
              "      <th>Other5</th>\n",
              "      <th>Other6</th>\n",
              "      <th>AnalogChannel0</th>\n",
              "      <th>AnalogChannel1</th>\n",
              "      <th>AnalogChannel2</th>\n",
              "      <th>Timestamp</th>\n",
              "      <th>Other7</th>\n",
              "      <th>Timestamp_Formatted_</th>\n",
              "    </tr>\n",
              "  </thead>\n",
              "  <tbody>\n",
              "    <tr>\n",
              "      <th>0</th>\n",
              "      <td>0</td>\n",
              "      <td>-562500.067</td>\n",
              "      <td>-562500.067</td>\n",
              "      <td>-562500.067</td>\n",
              "      <td>-562500.067</td>\n",
              "      <td>-562500.067</td>\n",
              "      <td>-562500.067</td>\n",
              "      <td>-562500.067</td>\n",
              "      <td>-562500.067</td>\n",
              "      <td>-281250.034</td>\n",
              "      <td>...</td>\n",
              "      <td>6.000</td>\n",
              "      <td>112.000</td>\n",
              "      <td>124.000</td>\n",
              "      <td>56.000</td>\n",
              "      <td>0</td>\n",
              "      <td>0</td>\n",
              "      <td>0</td>\n",
              "      <td>1712014125.620</td>\n",
              "      <td>0</td>\n",
              "      <td>2024-04-01 18:28:45.620</td>\n",
              "    </tr>\n",
              "    <tr>\n",
              "      <th>1</th>\n",
              "      <td>2</td>\n",
              "      <td>-562500.067</td>\n",
              "      <td>-562500.067</td>\n",
              "      <td>-562500.067</td>\n",
              "      <td>-562500.067</td>\n",
              "      <td>-562500.067</td>\n",
              "      <td>-562500.067</td>\n",
              "      <td>-562500.067</td>\n",
              "      <td>-562500.067</td>\n",
              "      <td>-562500.067</td>\n",
              "      <td>...</td>\n",
              "      <td>0.000</td>\n",
              "      <td>0.000</td>\n",
              "      <td>0.000</td>\n",
              "      <td>0.000</td>\n",
              "      <td>0</td>\n",
              "      <td>0</td>\n",
              "      <td>0</td>\n",
              "      <td>1712014125.627</td>\n",
              "      <td>0</td>\n",
              "      <td>2024-04-01 18:28:45.627</td>\n",
              "    </tr>\n",
              "    <tr>\n",
              "      <th>2</th>\n",
              "      <td>4</td>\n",
              "      <td>-562500.067</td>\n",
              "      <td>-562500.067</td>\n",
              "      <td>-562500.067</td>\n",
              "      <td>-562500.067</td>\n",
              "      <td>-562500.067</td>\n",
              "      <td>-562500.067</td>\n",
              "      <td>-562500.067</td>\n",
              "      <td>-562500.067</td>\n",
              "      <td>-562500.067</td>\n",
              "      <td>...</td>\n",
              "      <td>0.000</td>\n",
              "      <td>0.000</td>\n",
              "      <td>0.000</td>\n",
              "      <td>0.000</td>\n",
              "      <td>0</td>\n",
              "      <td>0</td>\n",
              "      <td>0</td>\n",
              "      <td>1712014125.634</td>\n",
              "      <td>0</td>\n",
              "      <td>2024-04-01 18:28:45.634</td>\n",
              "    </tr>\n",
              "    <tr>\n",
              "      <th>3</th>\n",
              "      <td>6</td>\n",
              "      <td>-562500.067</td>\n",
              "      <td>-562500.067</td>\n",
              "      <td>-562500.067</td>\n",
              "      <td>-562500.067</td>\n",
              "      <td>-562500.067</td>\n",
              "      <td>-562500.067</td>\n",
              "      <td>-562500.067</td>\n",
              "      <td>-562500.067</td>\n",
              "      <td>-562500.067</td>\n",
              "      <td>...</td>\n",
              "      <td>9.500</td>\n",
              "      <td>64.000</td>\n",
              "      <td>122.000</td>\n",
              "      <td>112.000</td>\n",
              "      <td>0</td>\n",
              "      <td>0</td>\n",
              "      <td>0</td>\n",
              "      <td>1712014125.640</td>\n",
              "      <td>0</td>\n",
              "      <td>2024-04-01 18:28:45.640</td>\n",
              "    </tr>\n",
              "    <tr>\n",
              "      <th>4</th>\n",
              "      <td>8</td>\n",
              "      <td>-562500.067</td>\n",
              "      <td>-562500.067</td>\n",
              "      <td>-562500.067</td>\n",
              "      <td>-562500.067</td>\n",
              "      <td>-562500.067</td>\n",
              "      <td>-562500.067</td>\n",
              "      <td>-562500.067</td>\n",
              "      <td>-562500.067</td>\n",
              "      <td>-562500.067</td>\n",
              "      <td>...</td>\n",
              "      <td>0.000</td>\n",
              "      <td>0.000</td>\n",
              "      <td>0.000</td>\n",
              "      <td>0.000</td>\n",
              "      <td>0</td>\n",
              "      <td>0</td>\n",
              "      <td>0</td>\n",
              "      <td>1712014125.648</td>\n",
              "      <td>0</td>\n",
              "      <td>2024-04-01 18:28:45.648</td>\n",
              "    </tr>\n",
              "  </tbody>\n",
              "</table>\n",
              "<p>5 rows × 33 columns</p>\n",
              "</div>\n",
              "    <div class=\"colab-df-buttons\">\n",
              "\n",
              "  <div class=\"colab-df-container\">\n",
              "    <button class=\"colab-df-convert\" onclick=\"convertToInteractive('df-ce1135d5-b52f-48f4-9e8e-35013ea76244')\"\n",
              "            title=\"Convert this dataframe to an interactive table.\"\n",
              "            style=\"display:none;\">\n",
              "\n",
              "  <svg xmlns=\"http://www.w3.org/2000/svg\" height=\"24px\" viewBox=\"0 -960 960 960\">\n",
              "    <path d=\"M120-120v-720h720v720H120Zm60-500h600v-160H180v160Zm220 220h160v-160H400v160Zm0 220h160v-160H400v160ZM180-400h160v-160H180v160Zm440 0h160v-160H620v160ZM180-180h160v-160H180v160Zm440 0h160v-160H620v160Z\"/>\n",
              "  </svg>\n",
              "    </button>\n",
              "\n",
              "  <style>\n",
              "    .colab-df-container {\n",
              "      display:flex;\n",
              "      gap: 12px;\n",
              "    }\n",
              "\n",
              "    .colab-df-convert {\n",
              "      background-color: #E8F0FE;\n",
              "      border: none;\n",
              "      border-radius: 50%;\n",
              "      cursor: pointer;\n",
              "      display: none;\n",
              "      fill: #1967D2;\n",
              "      height: 32px;\n",
              "      padding: 0 0 0 0;\n",
              "      width: 32px;\n",
              "    }\n",
              "\n",
              "    .colab-df-convert:hover {\n",
              "      background-color: #E2EBFA;\n",
              "      box-shadow: 0px 1px 2px rgba(60, 64, 67, 0.3), 0px 1px 3px 1px rgba(60, 64, 67, 0.15);\n",
              "      fill: #174EA6;\n",
              "    }\n",
              "\n",
              "    .colab-df-buttons div {\n",
              "      margin-bottom: 4px;\n",
              "    }\n",
              "\n",
              "    [theme=dark] .colab-df-convert {\n",
              "      background-color: #3B4455;\n",
              "      fill: #D2E3FC;\n",
              "    }\n",
              "\n",
              "    [theme=dark] .colab-df-convert:hover {\n",
              "      background-color: #434B5C;\n",
              "      box-shadow: 0px 1px 3px 1px rgba(0, 0, 0, 0.15);\n",
              "      filter: drop-shadow(0px 1px 2px rgba(0, 0, 0, 0.3));\n",
              "      fill: #FFFFFF;\n",
              "    }\n",
              "  </style>\n",
              "\n",
              "    <script>\n",
              "      const buttonEl =\n",
              "        document.querySelector('#df-ce1135d5-b52f-48f4-9e8e-35013ea76244 button.colab-df-convert');\n",
              "      buttonEl.style.display =\n",
              "        google.colab.kernel.accessAllowed ? 'block' : 'none';\n",
              "\n",
              "      async function convertToInteractive(key) {\n",
              "        const element = document.querySelector('#df-ce1135d5-b52f-48f4-9e8e-35013ea76244');\n",
              "        const dataTable =\n",
              "          await google.colab.kernel.invokeFunction('convertToInteractive',\n",
              "                                                    [key], {});\n",
              "        if (!dataTable) return;\n",
              "\n",
              "        const docLinkHtml = 'Like what you see? Visit the ' +\n",
              "          '<a target=\"_blank\" href=https://colab.research.google.com/notebooks/data_table.ipynb>data table notebook</a>'\n",
              "          + ' to learn more about interactive tables.';\n",
              "        element.innerHTML = '';\n",
              "        dataTable['output_type'] = 'display_data';\n",
              "        await google.colab.output.renderOutput(dataTable, element);\n",
              "        const docLink = document.createElement('div');\n",
              "        docLink.innerHTML = docLinkHtml;\n",
              "        element.appendChild(docLink);\n",
              "      }\n",
              "    </script>\n",
              "  </div>\n",
              "\n",
              "\n",
              "<div id=\"df-18ef27ff-33b5-4070-9a80-fb74ff95b8af\">\n",
              "  <button class=\"colab-df-quickchart\" onclick=\"quickchart('df-18ef27ff-33b5-4070-9a80-fb74ff95b8af')\"\n",
              "            title=\"Suggest charts\"\n",
              "            style=\"display:none;\">\n",
              "\n",
              "<svg xmlns=\"http://www.w3.org/2000/svg\" height=\"24px\"viewBox=\"0 0 24 24\"\n",
              "     width=\"24px\">\n",
              "    <g>\n",
              "        <path d=\"M19 3H5c-1.1 0-2 .9-2 2v14c0 1.1.9 2 2 2h14c1.1 0 2-.9 2-2V5c0-1.1-.9-2-2-2zM9 17H7v-7h2v7zm4 0h-2V7h2v10zm4 0h-2v-4h2v4z\"/>\n",
              "    </g>\n",
              "</svg>\n",
              "  </button>\n",
              "\n",
              "<style>\n",
              "  .colab-df-quickchart {\n",
              "      --bg-color: #E8F0FE;\n",
              "      --fill-color: #1967D2;\n",
              "      --hover-bg-color: #E2EBFA;\n",
              "      --hover-fill-color: #174EA6;\n",
              "      --disabled-fill-color: #AAA;\n",
              "      --disabled-bg-color: #DDD;\n",
              "  }\n",
              "\n",
              "  [theme=dark] .colab-df-quickchart {\n",
              "      --bg-color: #3B4455;\n",
              "      --fill-color: #D2E3FC;\n",
              "      --hover-bg-color: #434B5C;\n",
              "      --hover-fill-color: #FFFFFF;\n",
              "      --disabled-bg-color: #3B4455;\n",
              "      --disabled-fill-color: #666;\n",
              "  }\n",
              "\n",
              "  .colab-df-quickchart {\n",
              "    background-color: var(--bg-color);\n",
              "    border: none;\n",
              "    border-radius: 50%;\n",
              "    cursor: pointer;\n",
              "    display: none;\n",
              "    fill: var(--fill-color);\n",
              "    height: 32px;\n",
              "    padding: 0;\n",
              "    width: 32px;\n",
              "  }\n",
              "\n",
              "  .colab-df-quickchart:hover {\n",
              "    background-color: var(--hover-bg-color);\n",
              "    box-shadow: 0 1px 2px rgba(60, 64, 67, 0.3), 0 1px 3px 1px rgba(60, 64, 67, 0.15);\n",
              "    fill: var(--button-hover-fill-color);\n",
              "  }\n",
              "\n",
              "  .colab-df-quickchart-complete:disabled,\n",
              "  .colab-df-quickchart-complete:disabled:hover {\n",
              "    background-color: var(--disabled-bg-color);\n",
              "    fill: var(--disabled-fill-color);\n",
              "    box-shadow: none;\n",
              "  }\n",
              "\n",
              "  .colab-df-spinner {\n",
              "    border: 2px solid var(--fill-color);\n",
              "    border-color: transparent;\n",
              "    border-bottom-color: var(--fill-color);\n",
              "    animation:\n",
              "      spin 1s steps(1) infinite;\n",
              "  }\n",
              "\n",
              "  @keyframes spin {\n",
              "    0% {\n",
              "      border-color: transparent;\n",
              "      border-bottom-color: var(--fill-color);\n",
              "      border-left-color: var(--fill-color);\n",
              "    }\n",
              "    20% {\n",
              "      border-color: transparent;\n",
              "      border-left-color: var(--fill-color);\n",
              "      border-top-color: var(--fill-color);\n",
              "    }\n",
              "    30% {\n",
              "      border-color: transparent;\n",
              "      border-left-color: var(--fill-color);\n",
              "      border-top-color: var(--fill-color);\n",
              "      border-right-color: var(--fill-color);\n",
              "    }\n",
              "    40% {\n",
              "      border-color: transparent;\n",
              "      border-right-color: var(--fill-color);\n",
              "      border-top-color: var(--fill-color);\n",
              "    }\n",
              "    60% {\n",
              "      border-color: transparent;\n",
              "      border-right-color: var(--fill-color);\n",
              "    }\n",
              "    80% {\n",
              "      border-color: transparent;\n",
              "      border-right-color: var(--fill-color);\n",
              "      border-bottom-color: var(--fill-color);\n",
              "    }\n",
              "    90% {\n",
              "      border-color: transparent;\n",
              "      border-bottom-color: var(--fill-color);\n",
              "    }\n",
              "  }\n",
              "</style>\n",
              "\n",
              "  <script>\n",
              "    async function quickchart(key) {\n",
              "      const quickchartButtonEl =\n",
              "        document.querySelector('#' + key + ' button');\n",
              "      quickchartButtonEl.disabled = true;  // To prevent multiple clicks.\n",
              "      quickchartButtonEl.classList.add('colab-df-spinner');\n",
              "      try {\n",
              "        const charts = await google.colab.kernel.invokeFunction(\n",
              "            'suggestCharts', [key], {});\n",
              "      } catch (error) {\n",
              "        console.error('Error during call to suggestCharts:', error);\n",
              "      }\n",
              "      quickchartButtonEl.classList.remove('colab-df-spinner');\n",
              "      quickchartButtonEl.classList.add('colab-df-quickchart-complete');\n",
              "    }\n",
              "    (() => {\n",
              "      let quickchartButtonEl =\n",
              "        document.querySelector('#df-18ef27ff-33b5-4070-9a80-fb74ff95b8af button');\n",
              "      quickchartButtonEl.style.display =\n",
              "        google.colab.kernel.accessAllowed ? 'block' : 'none';\n",
              "    })();\n",
              "  </script>\n",
              "</div>\n",
              "\n",
              "    </div>\n",
              "  </div>\n"
            ],
            "application/vnd.google.colaboratory.intrinsic+json": {
              "type": "dataframe",
              "variable_name": "df_EEG"
            }
          },
          "metadata": {},
          "execution_count": 62
        }
      ]
    },
    {
      "cell_type": "code",
      "source": [
        "# prompt: check 1715108623 if in df_EEG[Timestamp (Formatted)_Unix]\n",
        "\n",
        "if 1711997878 in df_EEG['Timestamp (Formatted)_Unix'].values:\n",
        "  print(\"In the Timestamp (Formatted)_Unix column.\")\n",
        "else:\n",
        "  print(\"Not in the Timestamp (Formatted)_Unix column.\")\n"
      ],
      "metadata": {
        "colab": {
          "base_uri": "https://localhost:8080/"
        },
        "id": "BdMP7nvVPEAw",
        "outputId": "d9a00a8a-0268-45d4-eb6d-cbad2ef1d3b9"
      },
      "execution_count": null,
      "outputs": [
        {
          "output_type": "stream",
          "name": "stdout",
          "text": [
            "Not in the Timestamp (Formatted)_Unix column.\n"
          ]
        }
      ]
    },
    {
      "cell_type": "code",
      "source": [
        "# prompt: convert datatime 2024-03-04 13:32:20.764 to unix timestamp\n",
        "\n",
        "import datetime\n",
        "import time\n",
        "\n",
        "# Example datetime string\n",
        "datetime_str = \"2024-03-04 13:32:20\"\n",
        "\n",
        "# Convert the string to a datetime object\n",
        "datetime_obj = datetime.datetime.strptime(datetime_str, \"%Y-%m-%d %H:%M:%S\")\n",
        "\n",
        "# Convert the datetime object to a Unix timestamp\n",
        "unix_timestamp = time.mktime(datetime_obj.timetuple())\n",
        "\n",
        "print(unix_timestamp)\n"
      ],
      "metadata": {
        "colab": {
          "base_uri": "https://localhost:8080/"
        },
        "id": "3ZmjBm8sQVjD",
        "outputId": "f05aa2cb-f009-44e6-8b09-5887e758fbee"
      },
      "execution_count": null,
      "outputs": [
        {
          "output_type": "stream",
          "name": "stdout",
          "text": [
            "1709559140.0\n"
          ]
        }
      ]
    },
    {
      "cell_type": "markdown",
      "source": [
        "# Trime Baseline data\n",
        "\n",
        "\n",
        "*   remove 30% at the beginning\n",
        "\n"
      ],
      "metadata": {
        "id": "UZshsl-tCDJs"
      }
    },
    {
      "cell_type": "code",
      "source": [
        "# prompt: read file name starts with Subject_{i}_EEG_Baseline_OpenBCI-RAW under /content/drive/MyDrive/MX_2/EEG/\n",
        "\n",
        "\n",
        "\n",
        "# Assuming you have mounted your Google Drive\n",
        "# If not, mount it first using: from google.colab import drive; drive.mount('/content/drive')\n",
        "\n",
        "def read_baseline_data(sub):\n",
        "  \"\"\"Reads the baseline EEG data for a given subject ID.\"\"\"\n",
        "  file_path = f\"/content/drive/MyDrive/MX_2/EEG/0. Raw/Baseline/Subject_{sub}_EEG_Baseline_Raw.csv\"\n",
        "  file_list = glob.glob(file_path)\n",
        "  if file_list:\n",
        "    df = pd.read_csv(file_list[0])\n",
        "    # Trim the data\n",
        "    total_rows = len(df)\n",
        "    start_index = int(total_rows * 0.3)\n",
        "    df = df[start_index:]\n",
        "    return df\n",
        "  else:\n",
        "    print(f\"No file found for Subject_{sub}\")\n",
        "    return None\n",
        "\n",
        "for sub in range(68, 81):\n",
        "  df_baseline = read_baseline_data(sub)\n",
        "\n",
        "  if df_baseline is not None:\n",
        "    df_baseline.to_csv(f\"/content/drive/MyDrive/MX_2/EEG/1. Filtered/Baseline/Subject_{sub}_EEG_Baseline_OpenBCI-Trimmed.csv\", index=False)\n"
      ],
      "metadata": {
        "id": "6-eKE1BMCR6-",
        "colab": {
          "base_uri": "https://localhost:8080/"
        },
        "outputId": "455b28ad-d77e-436c-fe0e-43e7aa35dd55"
      },
      "execution_count": null,
      "outputs": [
        {
          "output_type": "stream",
          "name": "stdout",
          "text": [
            "No file found for Subject_71\n",
            "No file found for Subject_72\n",
            "No file found for Subject_75\n",
            "No file found for Subject_79\n"
          ]
        }
      ]
    },
    {
      "cell_type": "markdown",
      "source": [
        "# EEG"
      ],
      "metadata": {
        "id": "zAOvUHBjz0pA"
      }
    },
    {
      "cell_type": "markdown",
      "source": [
        "## Convert TXT to CSV File"
      ],
      "metadata": {
        "id": "FRKPu54s0kH5"
      }
    },
    {
      "cell_type": "code",
      "source": [
        "path = f'/content/drive/MyDrive/MX_2/EEG/0. Raw/Subject_46_61_Raw/'"
      ],
      "metadata": {
        "id": "Rclezrg82VIC"
      },
      "execution_count": null,
      "outputs": []
    },
    {
      "cell_type": "code",
      "execution_count": null,
      "metadata": {
        "id": "9pwAP8iNzsoW",
        "colab": {
          "base_uri": "https://localhost:8080/"
        },
        "outputId": "3f206d80-88f0-4054-ed13-6e3230ee26ee"
      },
      "outputs": [
        {
          "output_type": "stream",
          "name": "stdout",
          "text": [
            "OK ['/content/drive/MyDrive/MX_2/EEG/0_Raw/Subject_46_EEG_Exam_Raw.txt', '/content/drive/MyDrive/MX_2/EEG/0_Raw/Subject_47_EEG_Exam_Raw.txt', '/content/drive/MyDrive/MX_2/EEG/0_Raw/Subject_48_EEG_Exam_Raw.txt', '/content/drive/MyDrive/MX_2/EEG/0_Raw/Subject_49_EEG_Exam_Raw.txt', '/content/drive/MyDrive/MX_2/EEG/0_Raw/Subject_50_EEG_Exam_Raw.txt', '/content/drive/MyDrive/MX_2/EEG/0_Raw/Subject_53_EEG_Exam_Raw.txt', '/content/drive/MyDrive/MX_2/EEG/0_Raw/Subject_56_EEG_Exam_Raw.txt', '/content/drive/MyDrive/MX_2/EEG/0_Raw/Subject_57_EEG_Exam_Raw.txt', '/content/drive/MyDrive/MX_2/EEG/0_Raw/Subject_61_EEG_Exam_Raw.txt']\n"
          ]
        },
        {
          "output_type": "stream",
          "name": "stderr",
          "text": [
            "<ipython-input-6-e0c02ca8553f>:30: DtypeWarning: Columns (0,1,2,3,4,5,6,7,8,9,10,11,12,13,14,15,16,17,18,19,20,21,22,23,24,25,26,27,28,29,30,31) have mixed types. Specify dtype option on import or set low_memory=False.\n",
            "  data = pd.read_table(filename, skiprows=4, sep=',', header=None)\n",
            "<ipython-input-6-e0c02ca8553f>:30: DtypeWarning: Columns (0,1,2,3,4,5,6,7,8,9,10,11,12,13,14,15,16,17,18,19,20,21,22,23,24,25,26,27,28,29,30,31) have mixed types. Specify dtype option on import or set low_memory=False.\n",
            "  data = pd.read_table(filename, skiprows=4, sep=',', header=None)\n",
            "<ipython-input-6-e0c02ca8553f>:30: DtypeWarning: Columns (0,1,2,3,4,5,6,7,8,9,10,11,12,13,14,15,16,17,18,19,20,21,22,23,24,25,26,27,28,29,30,31) have mixed types. Specify dtype option on import or set low_memory=False.\n",
            "  data = pd.read_table(filename, skiprows=4, sep=',', header=None)\n",
            "<ipython-input-6-e0c02ca8553f>:30: DtypeWarning: Columns (0,1,2,3,4,5,6,7,8,9,10,11,12,13,14,15,16,17,18,19,20,21,22,23,24,25,26,27,28,29,30,31) have mixed types. Specify dtype option on import or set low_memory=False.\n",
            "  data = pd.read_table(filename, skiprows=4, sep=',', header=None)\n",
            "<ipython-input-6-e0c02ca8553f>:30: DtypeWarning: Columns (0,1,2,3,4,5,6,7,8,9,10,11,12,13,14,15,16,17,18,19,20,21,22,23,24,25,26,27,28,29,30,31) have mixed types. Specify dtype option on import or set low_memory=False.\n",
            "  data = pd.read_table(filename, skiprows=4, sep=',', header=None)\n",
            "<ipython-input-6-e0c02ca8553f>:30: DtypeWarning: Columns (0,1,2,3,4,5,6,7,8,9,10,11,12,13,14,15,16,17,18,19,20,21,22,23,24,25,26,27,28,29,30,31) have mixed types. Specify dtype option on import or set low_memory=False.\n",
            "  data = pd.read_table(filename, skiprows=4, sep=',', header=None)\n",
            "<ipython-input-6-e0c02ca8553f>:30: DtypeWarning: Columns (0,1,2,3,4,5,6,7,8,9,10,11,12,13,14,15,16,17,18,19,20,21,22,23,24,25,26,27,28,29,30,31) have mixed types. Specify dtype option on import or set low_memory=False.\n",
            "  data = pd.read_table(filename, skiprows=4, sep=',', header=None)\n",
            "<ipython-input-6-e0c02ca8553f>:30: DtypeWarning: Columns (0,1,2,3,4,5,6,7,8,9,10,11,12,13,14,15,16,17,18,19,20,21,22,23,24,25,26,27,28,29,30,31) have mixed types. Specify dtype option on import or set low_memory=False.\n",
            "  data = pd.read_table(filename, skiprows=4, sep=',', header=None)\n",
            "<ipython-input-6-e0c02ca8553f>:30: DtypeWarning: Columns (0,1,2,3,4,5,6,7,8,9,10,11,12,13,14,15,16,17,18,19,20,21,22,23,24,25,26,27,28,29,30,31) have mixed types. Specify dtype option on import or set low_memory=False.\n",
            "  data = pd.read_table(filename, skiprows=4, sep=',', header=None)\n"
          ]
        }
      ],
      "source": [
        "import pandas as pd\n",
        "def read_txt_files(path):\n",
        "  \"\"\"\n",
        "  Reads all txt files under a given path.\n",
        "\n",
        "  Args:\n",
        "    path: The path to the directory containing the txt files.\n",
        "\n",
        "  Returns:\n",
        "    A list of strings, where each string is the content of a txt file.\n",
        "  \"\"\"\n",
        "\n",
        "  txt_files = []\n",
        "  for filename in os.listdir(path):\n",
        "\n",
        "    if filename.endswith('.txt'):\n",
        "        txt_files.append(os.path.join(path, filename))\n",
        "\n",
        "  return txt_files\n",
        "# for name in ['Baseline', 'Exam', 'Training', 'baseline']:\n",
        "  # for i in range(10, 39):\n",
        "\n",
        "path = f'/content/drive/MyDrive/MX_2/EEG/0_Raw/'\n",
        "try:\n",
        "  txt_files = read_txt_files(path)\n",
        "  print('OK', txt_files)\n",
        "  # Print the content of each txt file\n",
        "  for filename in txt_files:\n",
        "    # Read data from line 5\n",
        "    data = pd.read_table(filename, skiprows=4, sep=',', header=None)\n",
        "    new_filename = filename[:-4] + '.csv'\n",
        "    data.to_csv(new_filename)\n",
        "except FileNotFoundError:\n",
        "  print('FileNotFoundError:', path)"
      ]
    },
    {
      "cell_type": "markdown",
      "source": [
        "## Trime Baseline data\n",
        "\n",
        "\n",
        "*   Remove 30% at the beginning\n"
      ],
      "metadata": {
        "id": "5S8kD8W-1f84"
      }
    },
    {
      "cell_type": "code",
      "source": [
        "def read_baseline_data(subject_id):\n",
        "  \"\"\"Reads the baseline EEG data for a given subject ID.\"\"\"\n",
        "  file_path = f\"/content/drive/MyDrive/MX_2/EEG/0. Raw/Subject_46_61_Raw/Subject_{subject_id}_EEG_Baseline_Raw.csv\"\n",
        "  file_list = glob.glob(file_path)\n",
        "  if file_list:\n",
        "    df = pd.read_csv(file_list[0])\n",
        "    # Trim the data\n",
        "    total_rows = len(df)\n",
        "    start_index = int(total_rows * 0.3)\n",
        "    df = df[start_index:]\n",
        "    return df\n",
        "  else:\n",
        "    print(f\"No file found for Subject_{subject_id}\")\n",
        "    return None\n",
        "\n",
        "for subject_id in range(46, 62):\n",
        "  df_baseline = read_baseline_data(subject_id)\n",
        "\n",
        "  if df_baseline is not None:\n",
        "    df_baseline.to_csv(f\"/content/drive/MyDrive/MX_2/EEG/Subject_{subject_id}_EEG_Baseline_OpenBCI-Trimmed.csv\", index=False)"
      ],
      "metadata": {
        "colab": {
          "base_uri": "https://localhost:8080/"
        },
        "id": "g3gh0lGW19fO",
        "outputId": "751821ab-5d65-4b31-b4dc-710420fc4f79"
      },
      "execution_count": null,
      "outputs": [
        {
          "output_type": "stream",
          "name": "stderr",
          "text": [
            "<ipython-input-3-7cc9035eee3b>:6: DtypeWarning: Columns (1,2,3,4,5,6,7,8,9,10,11,12,13,14,15,16,17,18,19,20,21,22,23,24,25,26,27,28,29,30,31,32) have mixed types. Specify dtype option on import or set low_memory=False.\n",
            "  df = pd.read_csv(file_list[0])\n",
            "<ipython-input-3-7cc9035eee3b>:6: DtypeWarning: Columns (1,2,3,4,5,6,7,8,9,10,11,12,13,14,15,16,17,18,19,20,21,22,23,24,25,26,27,28,29,30,31,32) have mixed types. Specify dtype option on import or set low_memory=False.\n",
            "  df = pd.read_csv(file_list[0])\n",
            "<ipython-input-3-7cc9035eee3b>:6: DtypeWarning: Columns (1,2,3,4,5,6,7,8,9,10,11,12,13,14,15,16,17,18,19,20,21,22,23,24,25,26,27,28,29,30,31,32) have mixed types. Specify dtype option on import or set low_memory=False.\n",
            "  df = pd.read_csv(file_list[0])\n",
            "<ipython-input-3-7cc9035eee3b>:6: DtypeWarning: Columns (1,2,3,4,5,6,7,8,9,10,11,12,13,14,15,16,17,18,19,20,21,22,23,24,25,26,27,28,29,30,31,32) have mixed types. Specify dtype option on import or set low_memory=False.\n",
            "  df = pd.read_csv(file_list[0])\n"
          ]
        },
        {
          "output_type": "stream",
          "name": "stdout",
          "text": [
            "No file found for Subject_51\n",
            "No file found for Subject_52\n"
          ]
        },
        {
          "output_type": "stream",
          "name": "stderr",
          "text": [
            "<ipython-input-3-7cc9035eee3b>:6: DtypeWarning: Columns (1,2,3,4,5,6,7,8,9,10,11,12,13,14,15,16,17,18,19,20,21,22,23,24,25,26,27,28,29,30,31,32) have mixed types. Specify dtype option on import or set low_memory=False.\n",
            "  df = pd.read_csv(file_list[0])\n",
            "<ipython-input-3-7cc9035eee3b>:6: DtypeWarning: Columns (1,2,3,4,5,6,7,8,9,10,11,12,13,14,15,16,17,18,19,20,21,22,23,24,25,26,27,28,29,30,31,32) have mixed types. Specify dtype option on import or set low_memory=False.\n",
            "  df = pd.read_csv(file_list[0])\n"
          ]
        },
        {
          "output_type": "stream",
          "name": "stdout",
          "text": [
            "No file found for Subject_54\n",
            "No file found for Subject_55\n"
          ]
        },
        {
          "output_type": "stream",
          "name": "stderr",
          "text": [
            "<ipython-input-3-7cc9035eee3b>:6: DtypeWarning: Columns (1,2,3,4,5,6,7,8,9,10,11,12,13,14,15,16,17,18,19,20,21,22,23,24,25,26,27,28,29,30,31,32) have mixed types. Specify dtype option on import or set low_memory=False.\n",
            "  df = pd.read_csv(file_list[0])\n",
            "<ipython-input-3-7cc9035eee3b>:6: DtypeWarning: Columns (1,2,3,4,5,6,7,8,9,10,11,12,13,14,15,16,17,18,19,20,21,22,23,24,25,26,27,28,29,30,31,32) have mixed types. Specify dtype option on import or set low_memory=False.\n",
            "  df = pd.read_csv(file_list[0])\n"
          ]
        },
        {
          "output_type": "stream",
          "name": "stdout",
          "text": [
            "No file found for Subject_58\n",
            "No file found for Subject_59\n",
            "No file found for Subject_60\n"
          ]
        },
        {
          "output_type": "stream",
          "name": "stderr",
          "text": [
            "<ipython-input-3-7cc9035eee3b>:6: DtypeWarning: Columns (1,2,3,4,5,6,7,8,9,10,11,12,13,14,15,16,17,18,19,20,21,22,23,24,25,26,27,28,29,30,31,32) have mixed types. Specify dtype option on import or set low_memory=False.\n",
            "  df = pd.read_csv(file_list[0])\n"
          ]
        }
      ]
    },
    {
      "cell_type": "markdown",
      "source": [
        "## Trime Training data\n",
        "\n",
        "\n",
        "*   Remove 20% at the beginning\n",
        "*   Remove 10% at the tail\n",
        "\n",
        "\n"
      ],
      "metadata": {
        "id": "r2jZ3OoW3EJt"
      }
    },
    {
      "cell_type": "code",
      "source": [
        "def read_training_data(subject_id):\n",
        "  \"\"\"Reads the baseline EEG data for a given subject ID.\"\"\"\n",
        "  file_path = f\"/content/drive/MyDrive/MX_2/EEG/0. Raw/Subject_46_61_Raw/Subject_{subject_id}_EEG_Training_Raw.csv\"\n",
        "  file_list = glob.glob(file_path)\n",
        "  if file_list:\n",
        "    df = pd.read_csv(file_list[0])\n",
        "    # Trim the data\n",
        "    total_rows = len(df)\n",
        "    start_index = int(total_rows * 0.2)\n",
        "    end_index = total_rows - int(total_rows * 0.1)\n",
        "    df = df[start_index:end_index]\n",
        "    return df\n",
        "  else:\n",
        "    print(f\"No file found for Subject_{subject_id}\")\n",
        "    return None\n",
        "\n",
        "for subject_id in range(46, 62):\n",
        "  df_baseline = read_baseline_data(subject_id)\n",
        "\n",
        "  if df_baseline is not None:\n",
        "    df_baseline.to_csv(f\"/content/drive/MyDrive/MX_2/EEG/Subject_{subject_id}_EEG_Training_OpenBCI-Trimmed.csv\", index=False)"
      ],
      "metadata": {
        "colab": {
          "base_uri": "https://localhost:8080/"
        },
        "outputId": "147b7617-edb6-4b37-b8fb-6a854dd8819c",
        "id": "76DJE6JT3EJt"
      },
      "execution_count": null,
      "outputs": [
        {
          "output_type": "stream",
          "name": "stderr",
          "text": [
            "<ipython-input-3-7cc9035eee3b>:6: DtypeWarning: Columns (1,2,3,4,5,6,7,8,9,10,11,12,13,14,15,16,17,18,19,20,21,22,23,24,25,26,27,28,29,30,31,32) have mixed types. Specify dtype option on import or set low_memory=False.\n",
            "  df = pd.read_csv(file_list[0])\n",
            "<ipython-input-3-7cc9035eee3b>:6: DtypeWarning: Columns (1,2,3,4,5,6,7,8,9,10,11,12,13,14,15,16,17,18,19,20,21,22,23,24,25,26,27,28,29,30,31,32) have mixed types. Specify dtype option on import or set low_memory=False.\n",
            "  df = pd.read_csv(file_list[0])\n",
            "<ipython-input-3-7cc9035eee3b>:6: DtypeWarning: Columns (1,2,3,4,5,6,7,8,9,10,11,12,13,14,15,16,17,18,19,20,21,22,23,24,25,26,27,28,29,30,31,32) have mixed types. Specify dtype option on import or set low_memory=False.\n",
            "  df = pd.read_csv(file_list[0])\n",
            "<ipython-input-3-7cc9035eee3b>:6: DtypeWarning: Columns (1,2,3,4,5,6,7,8,9,10,11,12,13,14,15,16,17,18,19,20,21,22,23,24,25,26,27,28,29,30,31,32) have mixed types. Specify dtype option on import or set low_memory=False.\n",
            "  df = pd.read_csv(file_list[0])\n",
            "<ipython-input-3-7cc9035eee3b>:6: DtypeWarning: Columns (1,2,3,4,5,6,7,8,9,10,11,12,13,14,15,16,17,18,19,20,21,22,23,24,25,26,27,28,29,30,31,32) have mixed types. Specify dtype option on import or set low_memory=False.\n",
            "  df = pd.read_csv(file_list[0])\n"
          ]
        },
        {
          "output_type": "stream",
          "name": "stdout",
          "text": [
            "No file found for Subject_51\n",
            "No file found for Subject_52\n"
          ]
        },
        {
          "output_type": "stream",
          "name": "stderr",
          "text": [
            "<ipython-input-3-7cc9035eee3b>:6: DtypeWarning: Columns (1,2,3,4,5,6,7,8,9,10,11,12,13,14,15,16,17,18,19,20,21,22,23,24,25,26,27,28,29,30,31,32) have mixed types. Specify dtype option on import or set low_memory=False.\n",
            "  df = pd.read_csv(file_list[0])\n",
            "<ipython-input-3-7cc9035eee3b>:6: DtypeWarning: Columns (1,2,3,4,5,6,7,8,9,10,11,12,13,14,15,16,17,18,19,20,21,22,23,24,25,26,27,28,29,30,31,32) have mixed types. Specify dtype option on import or set low_memory=False.\n",
            "  df = pd.read_csv(file_list[0])\n",
            "<ipython-input-3-7cc9035eee3b>:6: DtypeWarning: Columns (1,2,3,4,5,6,7,8,9,10,11,12,13,14,15,16,17,18,19,20,21,22,23,24,25,26,27,28,29,30,31,32) have mixed types. Specify dtype option on import or set low_memory=False.\n",
            "  df = pd.read_csv(file_list[0])\n"
          ]
        },
        {
          "output_type": "stream",
          "name": "stdout",
          "text": [
            "No file found for Subject_54\n",
            "No file found for Subject_55\n",
            "No file found for Subject_58\n",
            "No file found for Subject_59\n",
            "No file found for Subject_60\n"
          ]
        },
        {
          "output_type": "stream",
          "name": "stderr",
          "text": [
            "<ipython-input-3-7cc9035eee3b>:6: DtypeWarning: Columns (1,2,3,4,5,6,7,8,9,10,11,12,13,14,15,16,17,18,19,20,21,22,23,24,25,26,27,28,29,30,31,32) have mixed types. Specify dtype option on import or set low_memory=False.\n",
            "  df = pd.read_csv(file_list[0])\n"
          ]
        }
      ]
    },
    {
      "cell_type": "markdown",
      "source": [
        "## Remove first row from data"
      ],
      "metadata": {
        "id": "oXbDQ6TX2DR8"
      }
    },
    {
      "cell_type": "code",
      "source": [
        "# prompt: read /content/drive/MyDrive/MX_2/EEG/0. Raw/Subject_46_EEG_Exam_Raw.csv to dataframe\n",
        "\n",
        "import pandas as pd\n",
        "for subject_id in range(53, 62):\n",
        "  try:\n",
        "    file_path = f\"/content/drive/MyDrive/MX_2/EEG/0. Raw/Subject_{subject_id}_EEG_Exam_Raw.csv\"\n",
        "    df = pd.read_csv(file_path)\n",
        "    df = df[1:]\n",
        "    df.to_csv(f\"/content/drive/MyDrive/MX_2/EEG/0. Raw/Subject_{subject_id}_EEG_Exam_Raw.csv\", index=False)\n",
        "  except FileNotFoundError:\n",
        "    print(f\"No file found for Subject_{subject_id}\")\n"
      ],
      "metadata": {
        "colab": {
          "base_uri": "https://localhost:8080/"
        },
        "id": "ovdAiYAu2SSh",
        "outputId": "684b3604-7a4c-4301-b3eb-30d111a9590c"
      },
      "execution_count": null,
      "outputs": [
        {
          "output_type": "stream",
          "name": "stderr",
          "text": [
            "<ipython-input-4-9e579bc3f369>:7: DtypeWarning: Columns (1,2,3,4,5,6,7,8,9,10,11,12,13,14,15,16,17,18,19,20,21,22,23,24,25,26,27,28,29,30,31,32) have mixed types. Specify dtype option on import or set low_memory=False.\n",
            "  df = pd.read_csv(file_path)\n"
          ]
        },
        {
          "output_type": "stream",
          "name": "stdout",
          "text": [
            "No file found for Subject_54\n",
            "No file found for Subject_55\n"
          ]
        },
        {
          "output_type": "stream",
          "name": "stderr",
          "text": [
            "<ipython-input-4-9e579bc3f369>:7: DtypeWarning: Columns (1,2,3,4,5,6,7,8,9,10,11,12,13,14,15,16,17,18,19,20,21,22,23,24,25,26,27,28,29,30,31,32) have mixed types. Specify dtype option on import or set low_memory=False.\n",
            "  df = pd.read_csv(file_path)\n",
            "<ipython-input-4-9e579bc3f369>:7: DtypeWarning: Columns (1,2,3,4,5,6,7,8,9,10,11,12,13,14,15,16,17,18,19,20,21,22,23,24,25,26,27,28,29,30,31,32) have mixed types. Specify dtype option on import or set low_memory=False.\n",
            "  df = pd.read_csv(file_path)\n"
          ]
        },
        {
          "output_type": "stream",
          "name": "stdout",
          "text": [
            "No file found for Subject_58\n",
            "No file found for Subject_59\n",
            "No file found for Subject_60\n"
          ]
        },
        {
          "output_type": "stream",
          "name": "stderr",
          "text": [
            "<ipython-input-4-9e579bc3f369>:7: DtypeWarning: Columns (1,2,3,4,5,6,7,8,9,10,11,12,13,14,15,16,17,18,19,20,21,22,23,24,25,26,27,28,29,30,31,32) have mixed types. Specify dtype option on import or set low_memory=False.\n",
            "  df = pd.read_csv(file_path)\n"
          ]
        }
      ]
    },
    {
      "cell_type": "markdown",
      "source": [
        "## Convert EEG Processed file header"
      ],
      "metadata": {
        "id": "yrdpjrQNDAId"
      }
    },
    {
      "cell_type": "code",
      "source": [
        "import pandas as pd\n",
        "\n",
        "def convert_processed_csv(path):\n",
        "  try:\n",
        "    df = pd.read_csv(path)\n",
        "    print(df.columns)\n",
        "    df[['Time', 'FP1', 'FP2', 'C3', 'C4', 'P7', 'P8', 'O1', 'O2', 'F7', 'F8', 'F3', 'F4', 'T7', 'T8', 'P3', 'P4']] = df['Time\\tFP1\\tFP2\\tC3\\tC4\\tP7\\tP8\\tO1\\tO2\\tF7\\tF8\\tF3\\tF4\\tT7\\tT8\\tP3\\tP4'].str.split('\\t', expand=True)\n",
        "    df = df.drop(df.columns[0], axis=1)\n",
        "    df.to_csv(path, index=False)\n",
        "  except FileNotFoundError:\n",
        "    pass\n",
        "  except KeyError:\n",
        "    pass"
      ],
      "metadata": {
        "id": "hJ-JGs3MDO13"
      },
      "execution_count": null,
      "outputs": []
    },
    {
      "cell_type": "code",
      "source": [
        "for sub in range(46, 62):\n",
        "  try:\n",
        "    baseline_path = f'/content/drive/MyDrive/MX_2/EEG/Baseline_Training_Exam/Subject_{sub}_EEG_Baseline_OpenBCI_Processed.csv'\n",
        "    training_path = f'/content/drive/MyDrive/MX_2/EEG/Baseline_Training_Exam/Subject_{sub}_EEG_Training_OpenBCI_Processed.csv'\n",
        "    exam_path = f'/content/drive/MyDrive/MX_2/EEG/Baseline_Training_Exam/Subject_{sub}_EEG_Exam_OpenBCI_Processed.csv'\n",
        "    convert_processed_csv(baseline_path)\n",
        "    convert_processed_csv(training_path)\n",
        "    convert_processed_csv(exam_path)\n",
        "  except FileNotFoundError:\n",
        "    pass"
      ],
      "metadata": {
        "colab": {
          "base_uri": "https://localhost:8080/"
        },
        "id": "5ZXytAe3D5kd",
        "outputId": "987b738d-9c72-4645-887b-af99788aa7aa"
      },
      "execution_count": null,
      "outputs": [
        {
          "output_type": "stream",
          "name": "stdout",
          "text": [
            "Index(['Time\\tFP1\\tFP2\\tC3\\tC4\\tP7\\tP8\\tO1\\tO2\\tF7\\tF8\\tF3\\tF4\\tT7\\tT8\\tP3\\tP4'], dtype='object')\n",
            "Index(['Time\\tFP1\\tFP2\\tC3\\tC4\\tP7\\tP8\\tO1\\tO2\\tF7\\tF8\\tF3\\tF4\\tT7\\tT8\\tP3\\tP4'], dtype='object')\n",
            "Index(['Time\\tFP1\\tFP2\\tC3\\tC4\\tP7\\tP8\\tO1\\tO2\\tF7\\tF8\\tF3\\tF4\\tT7\\tT8\\tP3\\tP4'], dtype='object')\n",
            "Index(['Time\\tFP1\\tFP2\\tC3\\tC4\\tP7\\tP8\\tO1\\tO2\\tF7\\tF8\\tF3\\tF4\\tT7\\tT8\\tP3\\tP4'], dtype='object')\n",
            "Index(['Time\\tFP1\\tFP2\\tC3\\tC4\\tP7\\tP8\\tO1\\tO2\\tF7\\tF8\\tF3\\tF4\\tT7\\tT8\\tP3\\tP4'], dtype='object')\n",
            "Index(['Time\\tFP1\\tFP2\\tC3\\tC4\\tP7\\tP8\\tO1\\tO2\\tF7\\tF8\\tF3\\tF4\\tT7\\tT8\\tP3\\tP4'], dtype='object')\n",
            "Index(['Time\\tFP1\\tFP2\\tC3\\tC4\\tP7\\tP8\\tO1\\tO2\\tF7\\tF8\\tF3\\tF4\\tT7\\tT8\\tP3\\tP4'], dtype='object')\n",
            "Index(['Time\\tFP1\\tFP2\\tC3\\tC4\\tP7\\tP8\\tO1\\tO2\\tF7\\tF8\\tF3\\tF4\\tT7\\tT8\\tP3\\tP4'], dtype='object')\n",
            "Index(['Time\\tFP1\\tFP2\\tC3\\tC4\\tP7\\tP8\\tO1\\tO2\\tF7\\tF8\\tF3\\tF4\\tT7\\tT8\\tP3\\tP4'], dtype='object')\n",
            "Index(['Time\\tFP1\\tFP2\\tC3\\tC4\\tP7\\tP8\\tO1\\tO2\\tF7\\tF8\\tF3\\tF4\\tT7\\tT8\\tP3\\tP4'], dtype='object')\n",
            "Index(['Time\\tFP1\\tFP2\\tC3\\tC4\\tP7\\tP8\\tO1\\tO2\\tF7\\tF8\\tF3\\tF4\\tT7\\tT8\\tP3\\tP4'], dtype='object')\n",
            "Index(['Time\\tFP1\\tFP2\\tC3\\tC4\\tP7\\tP8\\tO1\\tO2\\tF7\\tF8\\tF3\\tF4\\tT7\\tT8\\tP3\\tP4'], dtype='object')\n",
            "Index(['Time\\tFP1\\tFP2\\tC3\\tC4\\tP7\\tP8\\tO1\\tO2\\tF7\\tF8\\tF3\\tF4\\tT7\\tT8\\tP3\\tP4'], dtype='object')\n",
            "Index(['Time\\tFP1\\tFP2\\tC3\\tC4\\tP7\\tP8\\tO1\\tO2\\tF7\\tF8\\tF3\\tF4\\tT7\\tT8\\tP3\\tP4'], dtype='object')\n",
            "Index(['Time\\tFP1\\tFP2\\tC3\\tC4\\tP7\\tP8\\tO1\\tO2\\tF7\\tF8\\tF3\\tF4\\tT7\\tT8\\tP3\\tP4'], dtype='object')\n",
            "Index(['Time\\tFP1\\tFP2\\tC3\\tC4\\tP7\\tP8\\tO1\\tO2\\tF7\\tF8\\tF3\\tF4\\tT7\\tT8\\tP3\\tP4'], dtype='object')\n",
            "Index(['Time\\tFP1\\tFP2\\tC3\\tC4\\tP7\\tP8\\tO1\\tO2\\tF7\\tF8\\tF3\\tF4\\tT7\\tT8\\tP3\\tP4'], dtype='object')\n",
            "Index(['Time\\tFP1\\tFP2\\tC3\\tC4\\tP7\\tP8\\tO1\\tO2\\tF7\\tF8\\tF3\\tF4\\tT7\\tT8\\tP3\\tP4'], dtype='object')\n",
            "Index(['Time\\tFP1\\tFP2\\tC3\\tC4\\tP7\\tP8\\tO1\\tO2\\tF7\\tF8\\tF3\\tF4\\tT7\\tT8\\tP3\\tP4'], dtype='object')\n",
            "Index(['Time\\tFP1\\tFP2\\tC3\\tC4\\tP7\\tP8\\tO1\\tO2\\tF7\\tF8\\tF3\\tF4\\tT7\\tT8\\tP3\\tP4'], dtype='object')\n",
            "Index(['Time\\tFP1\\tFP2\\tC3\\tC4\\tP7\\tP8\\tO1\\tO2\\tF7\\tF8\\tF3\\tF4\\tT7\\tT8\\tP3\\tP4'], dtype='object')\n",
            "Index(['Time\\tFP1\\tFP2\\tC3\\tC4\\tP7\\tP8\\tO1\\tO2\\tF7\\tF8\\tF3\\tF4\\tT7\\tT8\\tP3\\tP4'], dtype='object')\n",
            "Index(['Time\\tFP1\\tFP2\\tC3\\tC4\\tP7\\tP8\\tO1\\tO2\\tF7\\tF8\\tF3\\tF4\\tT7\\tT8\\tP3\\tP4'], dtype='object')\n",
            "Index(['Time\\tFP1\\tFP2\\tC3\\tC4\\tP7\\tP8\\tO1\\tO2\\tF7\\tF8\\tF3\\tF4\\tT7\\tT8\\tP3\\tP4'], dtype='object')\n",
            "Index(['Time\\tFP1\\tFP2\\tC3\\tC4\\tP7\\tP8\\tO1\\tO2\\tF7\\tF8\\tF3\\tF4\\tT7\\tT8\\tP3\\tP4'], dtype='object')\n",
            "Index(['Time\\tFP1\\tFP2\\tC3\\tC4\\tP7\\tP8\\tO1\\tO2\\tF7\\tF8\\tF3\\tF4\\tT7\\tT8\\tP3\\tP4'], dtype='object')\n",
            "Index(['Time\\tFP1\\tFP2\\tC3\\tC4\\tP7\\tP8\\tO1\\tO2\\tF7\\tF8\\tF3\\tF4\\tT7\\tT8\\tP3\\tP4'], dtype='object')\n"
          ]
        }
      ]
    }
  ]
}